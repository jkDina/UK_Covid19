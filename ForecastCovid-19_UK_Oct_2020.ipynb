{
 "cells": [
  {
   "cell_type": "markdown",
   "metadata": {},
   "source": [
    "# Forecast  of coronavirus infection in England"
   ]
  },
  {
   "cell_type": "markdown",
   "metadata": {},
   "source": [
    "27.10.2020"
   ]
  },
  {
   "cell_type": "markdown",
   "metadata": {},
   "source": [
    "Dataset source: https://coronavirus.data.gov.uk/cases"
   ]
  },
  {
   "cell_type": "code",
   "execution_count": 1,
   "metadata": {},
   "outputs": [],
   "source": [
    "import pandas as pd\n",
    "import matplotlib.pyplot as plt\n",
    "plt.style.use('classic')\n",
    "import numpy as np\n",
    "%matplotlib inline"
   ]
  },
  {
   "cell_type": "code",
   "execution_count": 2,
   "metadata": {
    "scrolled": true
   },
   "outputs": [
    {
     "data": {
      "text/html": [
       "<div>\n",
       "<style scoped>\n",
       "    .dataframe tbody tr th:only-of-type {\n",
       "        vertical-align: middle;\n",
       "    }\n",
       "\n",
       "    .dataframe tbody tr th {\n",
       "        vertical-align: top;\n",
       "    }\n",
       "\n",
       "    .dataframe thead th {\n",
       "        text-align: right;\n",
       "    }\n",
       "</style>\n",
       "<table border=\"1\" class=\"dataframe\">\n",
       "  <thead>\n",
       "    <tr style=\"text-align: right;\">\n",
       "      <th></th>\n",
       "      <th>areaType</th>\n",
       "      <th>areaName</th>\n",
       "      <th>areaCode</th>\n",
       "      <th>date</th>\n",
       "      <th>newCasesBySpecimenDate</th>\n",
       "      <th>cumCasesBySpecimenDate</th>\n",
       "    </tr>\n",
       "  </thead>\n",
       "  <tbody>\n",
       "    <tr>\n",
       "      <th>1018</th>\n",
       "      <td>nation</td>\n",
       "      <td>Wales</td>\n",
       "      <td>W92000004</td>\n",
       "      <td>2020-02-27</td>\n",
       "      <td>1</td>\n",
       "      <td>1</td>\n",
       "    </tr>\n",
       "    <tr>\n",
       "      <th>1017</th>\n",
       "      <td>nation</td>\n",
       "      <td>Wales</td>\n",
       "      <td>W92000004</td>\n",
       "      <td>2020-02-28</td>\n",
       "      <td>0</td>\n",
       "      <td>1</td>\n",
       "    </tr>\n",
       "    <tr>\n",
       "      <th>1016</th>\n",
       "      <td>nation</td>\n",
       "      <td>Wales</td>\n",
       "      <td>W92000004</td>\n",
       "      <td>2020-02-29</td>\n",
       "      <td>0</td>\n",
       "      <td>1</td>\n",
       "    </tr>\n",
       "    <tr>\n",
       "      <th>1015</th>\n",
       "      <td>nation</td>\n",
       "      <td>Wales</td>\n",
       "      <td>W92000004</td>\n",
       "      <td>2020-03-01</td>\n",
       "      <td>0</td>\n",
       "      <td>1</td>\n",
       "    </tr>\n",
       "    <tr>\n",
       "      <th>1014</th>\n",
       "      <td>nation</td>\n",
       "      <td>Wales</td>\n",
       "      <td>W92000004</td>\n",
       "      <td>2020-03-02</td>\n",
       "      <td>0</td>\n",
       "      <td>1</td>\n",
       "    </tr>\n",
       "    <tr>\n",
       "      <th>1013</th>\n",
       "      <td>nation</td>\n",
       "      <td>Wales</td>\n",
       "      <td>W92000004</td>\n",
       "      <td>2020-03-03</td>\n",
       "      <td>0</td>\n",
       "      <td>1</td>\n",
       "    </tr>\n",
       "    <tr>\n",
       "      <th>1012</th>\n",
       "      <td>nation</td>\n",
       "      <td>Wales</td>\n",
       "      <td>W92000004</td>\n",
       "      <td>2020-03-04</td>\n",
       "      <td>1</td>\n",
       "      <td>2</td>\n",
       "    </tr>\n",
       "    <tr>\n",
       "      <th>1011</th>\n",
       "      <td>nation</td>\n",
       "      <td>Wales</td>\n",
       "      <td>W92000004</td>\n",
       "      <td>2020-03-05</td>\n",
       "      <td>0</td>\n",
       "      <td>2</td>\n",
       "    </tr>\n",
       "    <tr>\n",
       "      <th>1010</th>\n",
       "      <td>nation</td>\n",
       "      <td>Wales</td>\n",
       "      <td>W92000004</td>\n",
       "      <td>2020-03-06</td>\n",
       "      <td>0</td>\n",
       "      <td>2</td>\n",
       "    </tr>\n",
       "    <tr>\n",
       "      <th>1009</th>\n",
       "      <td>nation</td>\n",
       "      <td>Wales</td>\n",
       "      <td>W92000004</td>\n",
       "      <td>2020-03-07</td>\n",
       "      <td>2</td>\n",
       "      <td>4</td>\n",
       "    </tr>\n",
       "  </tbody>\n",
       "</table>\n",
       "</div>"
      ],
      "text/plain": [
       "     areaType areaName   areaCode        date  newCasesBySpecimenDate  \\\n",
       "1018   nation    Wales  W92000004  2020-02-27                       1   \n",
       "1017   nation    Wales  W92000004  2020-02-28                       0   \n",
       "1016   nation    Wales  W92000004  2020-02-29                       0   \n",
       "1015   nation    Wales  W92000004  2020-03-01                       0   \n",
       "1014   nation    Wales  W92000004  2020-03-02                       0   \n",
       "1013   nation    Wales  W92000004  2020-03-03                       0   \n",
       "1012   nation    Wales  W92000004  2020-03-04                       1   \n",
       "1011   nation    Wales  W92000004  2020-03-05                       0   \n",
       "1010   nation    Wales  W92000004  2020-03-06                       0   \n",
       "1009   nation    Wales  W92000004  2020-03-07                       2   \n",
       "\n",
       "      cumCasesBySpecimenDate  \n",
       "1018                       1  \n",
       "1017                       1  \n",
       "1016                       1  \n",
       "1015                       1  \n",
       "1014                       1  \n",
       "1013                       1  \n",
       "1012                       2  \n",
       "1011                       2  \n",
       "1010                       2  \n",
       "1009                       4  "
      ]
     },
     "execution_count": 2,
     "metadata": {},
     "output_type": "execute_result"
    }
   ],
   "source": [
    "dataframe = pd.read_csv('data_2020-Oct-26.csv')\n",
    "dataframe.drop([0, 1], inplace=True)\n",
    "dataframe = dataframe.reindex(index=dataframe.index[::-1])\n",
    "dataframe.head(10)"
   ]
  },
  {
   "cell_type": "code",
   "execution_count": 3,
   "metadata": {},
   "outputs": [
    {
     "data": {
      "text/plain": [
       "Index(['areaType', 'areaName', 'areaCode', 'date', 'newCasesBySpecimenDate',\n",
       "       'cumCasesBySpecimenDate'],\n",
       "      dtype='object')"
      ]
     },
     "execution_count": 3,
     "metadata": {},
     "output_type": "execute_result"
    }
   ],
   "source": [
    "dataframe.columns "
   ]
  },
  {
   "cell_type": "code",
   "execution_count": 4,
   "metadata": {},
   "outputs": [
    {
     "data": {
      "text/plain": [
       "1017"
      ]
     },
     "execution_count": 4,
     "metadata": {},
     "output_type": "execute_result"
    }
   ],
   "source": [
    "len(dataframe['date'])"
   ]
  },
  {
   "cell_type": "code",
   "execution_count": 5,
   "metadata": {},
   "outputs": [],
   "source": [
    "#select England only\n",
    "df = dataframe[dataframe['areaName']=='England']"
   ]
  },
  {
   "cell_type": "code",
   "execution_count": 6,
   "metadata": {},
   "outputs": [
    {
     "data": {
      "text/html": [
       "<div>\n",
       "<style scoped>\n",
       "    .dataframe tbody tr th:only-of-type {\n",
       "        vertical-align: middle;\n",
       "    }\n",
       "\n",
       "    .dataframe tbody tr th {\n",
       "        vertical-align: top;\n",
       "    }\n",
       "\n",
       "    .dataframe thead th {\n",
       "        text-align: right;\n",
       "    }\n",
       "</style>\n",
       "<table border=\"1\" class=\"dataframe\">\n",
       "  <thead>\n",
       "    <tr style=\"text-align: right;\">\n",
       "      <th></th>\n",
       "      <th>areaType</th>\n",
       "      <th>areaName</th>\n",
       "      <th>areaCode</th>\n",
       "      <th>date</th>\n",
       "      <th>newCasesBySpecimenDate</th>\n",
       "      <th>cumCasesBySpecimenDate</th>\n",
       "    </tr>\n",
       "  </thead>\n",
       "  <tbody>\n",
       "    <tr>\n",
       "      <th>269</th>\n",
       "      <td>nation</td>\n",
       "      <td>England</td>\n",
       "      <td>E92000001</td>\n",
       "      <td>2020-01-30</td>\n",
       "      <td>2</td>\n",
       "      <td>2</td>\n",
       "    </tr>\n",
       "    <tr>\n",
       "      <th>268</th>\n",
       "      <td>nation</td>\n",
       "      <td>England</td>\n",
       "      <td>E92000001</td>\n",
       "      <td>2020-01-31</td>\n",
       "      <td>0</td>\n",
       "      <td>2</td>\n",
       "    </tr>\n",
       "    <tr>\n",
       "      <th>267</th>\n",
       "      <td>nation</td>\n",
       "      <td>England</td>\n",
       "      <td>E92000001</td>\n",
       "      <td>2020-02-01</td>\n",
       "      <td>0</td>\n",
       "      <td>2</td>\n",
       "    </tr>\n",
       "    <tr>\n",
       "      <th>266</th>\n",
       "      <td>nation</td>\n",
       "      <td>England</td>\n",
       "      <td>E92000001</td>\n",
       "      <td>2020-02-02</td>\n",
       "      <td>0</td>\n",
       "      <td>2</td>\n",
       "    </tr>\n",
       "    <tr>\n",
       "      <th>265</th>\n",
       "      <td>nation</td>\n",
       "      <td>England</td>\n",
       "      <td>E92000001</td>\n",
       "      <td>2020-02-03</td>\n",
       "      <td>0</td>\n",
       "      <td>2</td>\n",
       "    </tr>\n",
       "    <tr>\n",
       "      <th>264</th>\n",
       "      <td>nation</td>\n",
       "      <td>England</td>\n",
       "      <td>E92000001</td>\n",
       "      <td>2020-02-04</td>\n",
       "      <td>0</td>\n",
       "      <td>2</td>\n",
       "    </tr>\n",
       "    <tr>\n",
       "      <th>263</th>\n",
       "      <td>nation</td>\n",
       "      <td>England</td>\n",
       "      <td>E92000001</td>\n",
       "      <td>2020-02-05</td>\n",
       "      <td>1</td>\n",
       "      <td>3</td>\n",
       "    </tr>\n",
       "    <tr>\n",
       "      <th>262</th>\n",
       "      <td>nation</td>\n",
       "      <td>England</td>\n",
       "      <td>E92000001</td>\n",
       "      <td>2020-02-06</td>\n",
       "      <td>0</td>\n",
       "      <td>3</td>\n",
       "    </tr>\n",
       "    <tr>\n",
       "      <th>261</th>\n",
       "      <td>nation</td>\n",
       "      <td>England</td>\n",
       "      <td>E92000001</td>\n",
       "      <td>2020-02-07</td>\n",
       "      <td>0</td>\n",
       "      <td>3</td>\n",
       "    </tr>\n",
       "    <tr>\n",
       "      <th>260</th>\n",
       "      <td>nation</td>\n",
       "      <td>England</td>\n",
       "      <td>E92000001</td>\n",
       "      <td>2020-02-08</td>\n",
       "      <td>4</td>\n",
       "      <td>7</td>\n",
       "    </tr>\n",
       "  </tbody>\n",
       "</table>\n",
       "</div>"
      ],
      "text/plain": [
       "    areaType areaName   areaCode        date  newCasesBySpecimenDate  \\\n",
       "269   nation  England  E92000001  2020-01-30                       2   \n",
       "268   nation  England  E92000001  2020-01-31                       0   \n",
       "267   nation  England  E92000001  2020-02-01                       0   \n",
       "266   nation  England  E92000001  2020-02-02                       0   \n",
       "265   nation  England  E92000001  2020-02-03                       0   \n",
       "264   nation  England  E92000001  2020-02-04                       0   \n",
       "263   nation  England  E92000001  2020-02-05                       1   \n",
       "262   nation  England  E92000001  2020-02-06                       0   \n",
       "261   nation  England  E92000001  2020-02-07                       0   \n",
       "260   nation  England  E92000001  2020-02-08                       4   \n",
       "\n",
       "     cumCasesBySpecimenDate  \n",
       "269                       2  \n",
       "268                       2  \n",
       "267                       2  \n",
       "266                       2  \n",
       "265                       2  \n",
       "264                       2  \n",
       "263                       3  \n",
       "262                       3  \n",
       "261                       3  \n",
       "260                       7  "
      ]
     },
     "execution_count": 6,
     "metadata": {},
     "output_type": "execute_result"
    }
   ],
   "source": [
    "df.head(10)"
   ]
  },
  {
   "cell_type": "code",
   "execution_count": 7,
   "metadata": {},
   "outputs": [
    {
     "name": "stderr",
     "output_type": "stream",
     "text": [
      "C:\\Users\\user\\Anaconda3\\lib\\site-packages\\ipykernel_launcher.py:1: SettingWithCopyWarning: \n",
      "A value is trying to be set on a copy of a slice from a DataFrame.\n",
      "Try using .loc[row_indexer,col_indexer] = value instead\n",
      "\n",
      "See the caveats in the documentation: https://pandas.pydata.org/pandas-docs/stable/user_guide/indexing.html#returning-a-view-versus-a-copy\n",
      "  \"\"\"Entry point for launching an IPython kernel.\n"
     ]
    },
    {
     "data": {
      "image/png": "[encoded data removed]",
      "text/plain": [
       "<Figure size 720x360 with 1 Axes>"
      ]
     },
     "metadata": {
      "needs_background": "light"
     },
     "output_type": "display_data"
    }
   ],
   "source": [
    "df['date'] = pd.to_datetime(df['date'], format='%Y-%m-%d')\n",
    "index_date = df.set_index('date')\n",
    "ts = index_date['newCasesBySpecimenDate']\n",
    "plt.figure(figsize=(10,5))\n",
    "plt.plot(ts)\n",
    "plt.show()"
   ]
  },
  {
   "cell_type": "code",
   "execution_count": 8,
   "metadata": {},
   "outputs": [
    {
     "data": {
      "text/html": [
       "<div>\n",
       "<style scoped>\n",
       "    .dataframe tbody tr th:only-of-type {\n",
       "        vertical-align: middle;\n",
       "    }\n",
       "\n",
       "    .dataframe tbody tr th {\n",
       "        vertical-align: top;\n",
       "    }\n",
       "\n",
       "    .dataframe thead th {\n",
       "        text-align: right;\n",
       "    }\n",
       "</style>\n",
       "<table border=\"1\" class=\"dataframe\">\n",
       "  <thead>\n",
       "    <tr style=\"text-align: right;\">\n",
       "      <th></th>\n",
       "      <th>date</th>\n",
       "      <th>newCasesBySpecimenDate</th>\n",
       "      <th>cumCasesBySpecimenDate</th>\n",
       "    </tr>\n",
       "  </thead>\n",
       "  <tbody>\n",
       "    <tr>\n",
       "      <th>269</th>\n",
       "      <td>2020-01-30</td>\n",
       "      <td>2</td>\n",
       "      <td>2</td>\n",
       "    </tr>\n",
       "    <tr>\n",
       "      <th>268</th>\n",
       "      <td>2020-01-31</td>\n",
       "      <td>0</td>\n",
       "      <td>2</td>\n",
       "    </tr>\n",
       "    <tr>\n",
       "      <th>267</th>\n",
       "      <td>2020-02-01</td>\n",
       "      <td>0</td>\n",
       "      <td>2</td>\n",
       "    </tr>\n",
       "    <tr>\n",
       "      <th>266</th>\n",
       "      <td>2020-02-02</td>\n",
       "      <td>0</td>\n",
       "      <td>2</td>\n",
       "    </tr>\n",
       "    <tr>\n",
       "      <th>265</th>\n",
       "      <td>2020-02-03</td>\n",
       "      <td>0</td>\n",
       "      <td>2</td>\n",
       "    </tr>\n",
       "    <tr>\n",
       "      <th>264</th>\n",
       "      <td>2020-02-04</td>\n",
       "      <td>0</td>\n",
       "      <td>2</td>\n",
       "    </tr>\n",
       "    <tr>\n",
       "      <th>263</th>\n",
       "      <td>2020-02-05</td>\n",
       "      <td>1</td>\n",
       "      <td>3</td>\n",
       "    </tr>\n",
       "    <tr>\n",
       "      <th>262</th>\n",
       "      <td>2020-02-06</td>\n",
       "      <td>0</td>\n",
       "      <td>3</td>\n",
       "    </tr>\n",
       "    <tr>\n",
       "      <th>261</th>\n",
       "      <td>2020-02-07</td>\n",
       "      <td>0</td>\n",
       "      <td>3</td>\n",
       "    </tr>\n",
       "    <tr>\n",
       "      <th>260</th>\n",
       "      <td>2020-02-08</td>\n",
       "      <td>4</td>\n",
       "      <td>7</td>\n",
       "    </tr>\n",
       "  </tbody>\n",
       "</table>\n",
       "</div>"
      ],
      "text/plain": [
       "          date  newCasesBySpecimenDate  cumCasesBySpecimenDate\n",
       "269 2020-01-30                       2                       2\n",
       "268 2020-01-31                       0                       2\n",
       "267 2020-02-01                       0                       2\n",
       "266 2020-02-02                       0                       2\n",
       "265 2020-02-03                       0                       2\n",
       "264 2020-02-04                       0                       2\n",
       "263 2020-02-05                       1                       3\n",
       "262 2020-02-06                       0                       3\n",
       "261 2020-02-07                       0                       3\n",
       "260 2020-02-08                       4                       7"
      ]
     },
     "execution_count": 8,
     "metadata": {},
     "output_type": "execute_result"
    }
   ],
   "source": [
    "#Select the relevnt colomns: date, newCasesBySpecimenDate, cumCasesBySpecimenDate\n",
    "df = df[['date', 'newCasesBySpecimenDate', 'cumCasesBySpecimenDate']]\n",
    "df.head(10)"
   ]
  },
  {
   "cell_type": "code",
   "execution_count": 9,
   "metadata": {},
   "outputs": [
    {
     "data": {
      "text/plain": [
       "array([  0,   1,   2,   3,   4,   5,   6,   7,   8,   9,  10,  11,  12,\n",
       "        13,  14,  15,  16,  17,  18,  19,  20,  21,  22,  23,  24,  25,\n",
       "        26,  27,  28,  29,  30,  31,  32,  33,  34,  35,  36,  37,  38,\n",
       "        39,  40,  41,  42,  43,  44,  45,  46,  47,  48,  49,  50,  51,\n",
       "        52,  53,  54,  55,  56,  57,  58,  59,  60,  61,  62,  63,  64,\n",
       "        65,  66,  67,  68,  69,  70,  71,  72,  73,  74,  75,  76,  77,\n",
       "        78,  79,  80,  81,  82,  83,  84,  85,  86,  87,  88,  89,  90,\n",
       "        91,  92,  93,  94,  95,  96,  97,  98,  99, 100, 101, 102, 103,\n",
       "       104, 105, 106, 107, 108, 109, 110, 111, 112, 113, 114, 115, 116,\n",
       "       117, 118, 119, 120, 121, 122, 123, 124, 125, 126, 127, 128, 129,\n",
       "       130, 131, 132, 133, 134, 135, 136, 137, 138, 139, 140, 141, 142,\n",
       "       143, 144, 145, 146, 147, 148, 149, 150, 151, 152, 153, 154, 155,\n",
       "       156, 157, 158, 159, 160, 161, 162, 163, 164, 165, 166, 167, 168,\n",
       "       169, 170, 171, 172, 173, 174, 175, 176, 177, 178, 179, 180, 181,\n",
       "       182, 183, 184, 185, 186, 187, 188, 189, 190, 191, 192, 193, 194,\n",
       "       195, 196, 197, 198, 199, 200, 201, 202, 203, 204, 205, 206, 207,\n",
       "       208, 209, 210, 211, 212, 213, 214, 215, 216, 217, 218, 219, 220,\n",
       "       221, 222, 223, 224, 225, 226, 227, 228, 229, 230, 231, 232, 233,\n",
       "       234, 235, 236, 237, 238, 239, 240, 241, 242, 243, 244, 245, 246,\n",
       "       247, 248, 249, 250, 251, 252, 253, 254, 255, 256, 257, 258, 259,\n",
       "       260, 261, 262, 263, 264, 265, 266, 267])"
      ]
     },
     "execution_count": 9,
     "metadata": {},
     "output_type": "execute_result"
    }
   ],
   "source": [
    "#present the dates as a range of integers\n",
    "x = df['date'].values\n",
    "x = np.array(range(len(x)))\n",
    "x"
   ]
  },
  {
   "cell_type": "code",
   "execution_count": 15,
   "metadata": {},
   "outputs": [],
   "source": [
    "#x - the dates as a range of integers\n",
    "#y1  - new cases of infection(newCasesBySpecimenDate) \n",
    "#y2 - the total number of cases(cumCasesBySpecimenDate)"
   ]
  },
  {
   "cell_type": "code",
   "execution_count": 11,
   "metadata": {},
   "outputs": [
    {
     "data": {
      "text/plain": [
       "array([  0,   4,   8,  12,  16,  20,  24,  28,  32,  36,  40,  44,  48,\n",
       "        52,  56,  60,  64,  68,  72,  76,  80,  84,  88,  92,  96, 100,\n",
       "       104, 108, 112, 116, 120, 124, 128, 132, 136, 140, 144, 148, 152,\n",
       "       156, 160, 164, 168, 172, 176, 180, 184, 188, 192, 196, 200, 204,\n",
       "       208, 212, 216, 220, 224, 228, 232, 236, 240, 244, 248, 252, 256,\n",
       "       260, 264])"
      ]
     },
     "execution_count": 11,
     "metadata": {},
     "output_type": "execute_result"
    }
   ],
   "source": [
    "#every 4th value of x place into test data\n",
    "x_test = x[::4]\n",
    "x_test"
   ]
  },
  {
   "cell_type": "code",
   "execution_count": 12,
   "metadata": {},
   "outputs": [
    {
     "data": {
      "text/plain": [
       "array([  1,   2,   3,   5,   6,   7,   9,  10,  11,  13,  14,  15,  17,\n",
       "        18,  19,  21,  22,  23,  25,  26,  27,  29,  30,  31,  33,  34,\n",
       "        35,  37,  38,  39,  41,  42,  43,  45,  46,  47,  49,  50,  51,\n",
       "        53,  54,  55,  57,  58,  59,  61,  62,  63,  65,  66,  67,  69,\n",
       "        70,  71,  73,  74,  75,  77,  78,  79,  81,  82,  83,  85,  86,\n",
       "        87,  89,  90,  91,  93,  94,  95,  97,  98,  99, 101, 102, 103,\n",
       "       105, 106, 107, 109, 110, 111, 113, 114, 115, 117, 118, 119, 121,\n",
       "       122, 123, 125, 126, 127, 129, 130, 131, 133, 134, 135, 137, 138,\n",
       "       139, 141, 142, 143, 145, 146, 147, 149, 150, 151, 153, 154, 155,\n",
       "       157, 158, 159, 161, 162, 163, 165, 166, 167, 169, 170, 171, 173,\n",
       "       174, 175, 177, 178, 179, 181, 182, 183, 185, 186, 187, 189, 190,\n",
       "       191, 193, 194, 195, 197, 198, 199, 201, 202, 203, 205, 206, 207,\n",
       "       209, 210, 211, 213, 214, 215, 217, 218, 219, 221, 222, 223, 225,\n",
       "       226, 227, 229, 230, 231, 233, 234, 235, 237, 238, 239, 241, 242,\n",
       "       243, 245, 246, 247, 249, 250, 251, 253, 254, 255, 257, 258, 259,\n",
       "       261, 262, 263, 265, 266, 267])"
      ]
     },
     "execution_count": 12,
     "metadata": {},
     "output_type": "execute_result"
    }
   ],
   "source": [
    "#create a mask and separate 3 out of 4 remining values of the dataset x_train\n",
    "mask_x_train = np.array([True]*len(x))\n",
    "mask_x_train[::4] = False\n",
    "x_train = x[mask_x_train]\n",
    "x_train"
   ]
  },
  {
   "cell_type": "code",
   "execution_count": 13,
   "metadata": {},
   "outputs": [],
   "source": [
    "#new infection cases(newCasesBySpecimenDate)\n",
    "y1 = df['newCasesBySpecimenDate'].values"
   ]
  },
  {
   "cell_type": "code",
   "execution_count": 14,
   "metadata": {},
   "outputs": [],
   "source": [
    "#total cases of infection(cumCasesBySpecimenDate)\n",
    "y2 = df['cumCasesBySpecimenDate'].values"
   ]
  },
  {
   "cell_type": "code",
   "execution_count": 15,
   "metadata": {},
   "outputs": [],
   "source": [
    "#every 4th value of y place into test data\n",
    "y1_test = y1[::4]\n",
    "y2_test = y2[::4]"
   ]
  },
  {
   "cell_type": "code",
   "execution_count": 16,
   "metadata": {},
   "outputs": [
    {
     "name": "stdout",
     "output_type": "stream",
     "text": [
      "y1_train = [    0     0     0     0     1     0     4     1     0     0     0     0\n",
      "     0     0     0     0     1     0     2     5     4    11     5    20\n",
      "    53    49    47    54    50   124   353   414   393   398   547   679\n",
      "   930  1083  1036  2015  2023  2262  2657  2377  2441  3785  4103  4061\n",
      "  3383  3083  4397  4293  4059  3585  2944  3446  3558  4363  4078  4115\n",
      "  3690  3972  4797  4360  3372  3135  4123  4738  4315  2749  2629  2841\n",
      "  3270  3202  2617  2005  3069  2926  2212  2134  1771  2216  2588  2354\n",
      "  1797  1300  1198  1459  1613  1568  1001   984  1313  1242  1143  1021\n",
      "   663   989  1058   915   934   785   938   991   912   809   628   551\n",
      "   728   727   637   503   411   666   603   560   536   540   654   558\n",
      "   679   521   422   690   651   724   546   466   413   691   750   732\n",
      "   492   515   810   973   855   624   512   939   920   978   865   636\n",
      "  1350  1213  1092  1043   645   527   925  1073  1222   715   692  1083\n",
      "  1141  1337  1389   980  1259  1929  2667  2588  2190  3464  3001  2851\n",
      "  2856  2213  1711  3047  3746  3936  4182  4620  4697  5888  6297  6046\n",
      "  6026  8567  8720 11286 11551  9701 14023 14285 15183 12994 10145  9613\n",
      " 15429 16418 15225 12307 11820 21989 20888 17846 13614]\n",
      "y2_train = [     2      2      2      2      3      3      7      8      8      9\n",
      "      9      9      9      9      9      9     10     10     13     18\n",
      "     22     40     45     65    157    206    253    380    430    554\n",
      "   1133   1547   1940   2652   3199   3878   5716   6799   7835  11060\n",
      "  13083  15345  20618  22995  25436  32748  36851  40912  48403  51486\n",
      "  55883  64756  68815  72400  78425  81871  85429  94033  98111 102226\n",
      " 109387 113359 118156 127077 130449 133584 141740 146478 150793 157633\n",
      " 160262 163103 169519 172721 175338 179136 182205 185131 190223 192357\n",
      " 194128 197932 200520 202874 206946 208246 209444 212281 213894 215462\n",
      " 217832 218816 220129 222724 223867 224888 226270 227259 228317 230316\n",
      " 231250 232035 233718 234709 235621 237374 238002 238553 240095 240822\n",
      " 241459 242605 243016 243682 244855 245415 245951 246874 247528 248086\n",
      " 249437 249958 250380 251421 252072 252796 253981 254447 254860 256304\n",
      " 257054 257786 258992 259507 260317 262072 262927 263551 264556 265495\n",
      " 266415 268334 269199 269835 271742 272955 274047 276108 276753 277280\n",
      " 279343 280416 281638 283355 284047 285130 287331 288668 290057 292083\n",
      " 293342 295271 300556 303144 305334 310854 313855 316706 322664 324877\n",
      " 326588 332533 336279 340215 348678 353298 357995 369251 375548 381594\n",
      " 393266 401833 410553 432346 443897 453598 477429 491714 506897 535139\n",
      " 545284 554897 586503 602921 618146 644955 656775 678764 720784 738630\n",
      " 752244]\n"
     ]
    }
   ],
   "source": [
    "#create a mask for y1, y2\n",
    "#select 3 out of 4 values for a train dataset, \n",
    "mask_y_train = np.array([True]*len(x))\n",
    "mask_y_train[::4] = False\n",
    "y1_train = y1[mask_y_train]\n",
    "print('y1_train =', y1_train)\n",
    "y2_train = y2[mask_y_train]\n",
    "print('y2_train =', y2_train)"
   ]
  },
  {
   "cell_type": "markdown",
   "metadata": {},
   "source": [
    "Building the model / use Polynomial regression "
   ]
  },
  {
   "cell_type": "code",
   "execution_count": 17,
   "metadata": {},
   "outputs": [],
   "source": [
    "from sklearn.preprocessing import PolynomialFeatures\n",
    "from sklearn.linear_model import LinearRegression\n",
    "from sklearn.metrics import mean_squared_error"
   ]
  },
  {
   "cell_type": "markdown",
   "metadata": {},
   "source": [
    "###### Using the number of new infections for analysis(newCasesBySpecimenDate)"
   ]
  },
  {
   "cell_type": "code",
   "execution_count": 18,
   "metadata": {},
   "outputs": [
    {
     "data": {
      "text/plain": [
       "LinearRegression(copy_X=True, fit_intercept=True, n_jobs=None,\n",
       "         normalize=False)"
      ]
     },
     "execution_count": 18,
     "metadata": {},
     "output_type": "execute_result"
    }
   ],
   "source": [
    "#choose the hyperparameter (degree = 4)\n",
    "poly = PolynomialFeatures(degree = 4)\n",
    "x_poly_train = poly.fit_transform(x_train.reshape((-1, 1)))\n",
    "x_poly_test = poly.transform(x_test.reshape((-1, 1)))\n",
    "\n",
    "#create and train the model\n",
    "model = LinearRegression()\n",
    "model.fit(x_poly_train, y1_train)"
   ]
  },
  {
   "cell_type": "code",
   "execution_count": 19,
   "metadata": {},
   "outputs": [],
   "source": [
    "#prediction\n",
    "y1_pred = model.predict(x_poly_test)"
   ]
  },
  {
   "cell_type": "code",
   "execution_count": 20,
   "metadata": {},
   "outputs": [
    {
     "data": {
      "text/plain": [
       "1251306.2804834452"
      ]
     },
     "execution_count": 20,
     "metadata": {},
     "output_type": "execute_result"
    }
   ],
   "source": [
    "mean_squared_error(y1_pred, y1_test)"
   ]
  },
  {
   "cell_type": "code",
   "execution_count": 21,
   "metadata": {},
   "outputs": [
    {
     "data": {
      "image/png": "[encoded data removed]",
      "text/plain": [
       "<Figure size 432x288 with 1 Axes>"
      ]
     },
     "metadata": {
      "needs_background": "light"
     },
     "output_type": "display_data"
    }
   ],
   "source": [
    "#build a graph and see how well we approximated the model\n",
    "plt.plot(x, y1)\n",
    "plt.plot(x_test, y1_pred, c='r')\n",
    "plt.show()"
   ]
  },
  {
   "cell_type": "code",
   "execution_count": 22,
   "metadata": {},
   "outputs": [],
   "source": [
    "#make a forecast\n",
    "x_full_raw = np.array(range(360))\n",
    "x_full = poly.transform(x_full_raw.reshape((-1, 1)))\n",
    "y1_full = model.predict(x_full)"
   ]
  },
  {
   "cell_type": "code",
   "execution_count": 23,
   "metadata": {},
   "outputs": [
    {
     "data": {
      "image/png": "[encoded data removed]",
      "text/plain": [
       "<Figure size 432x288 with 1 Axes>"
      ]
     },
     "metadata": {
      "needs_background": "light"
     },
     "output_type": "display_data"
    }
   ],
   "source": [
    "#graph of the development of the coronavirus epidemic in England\n",
    "plt.plot(x, y1)\n",
    "plt.plot(x_full_raw, y1_full, c='r')\n",
    "plt.show()"
   ]
  },
  {
   "cell_type": "code",
   "execution_count": 24,
   "metadata": {},
   "outputs": [
    {
     "data": {
      "text/plain": [
       "array([19547.39756706, 20139.31478436, 20743.35992265, 21359.67700914,\n",
       "       21988.41083645, 22629.70696264, 23283.71171121, 23950.57217108,\n",
       "       24630.43619659, 25323.45240752, 26029.7701891 , 26749.53969195,\n",
       "       27482.91183215, 28230.0382912 , 28991.07151603, 29766.16471901,\n",
       "       30555.47187793, 31359.147736  , 32177.34780188, 33010.22834966,\n",
       "       33857.94641884, 34720.65981438, 35598.52710663, 36491.70763141,\n",
       "       37400.36148995, 38324.64954891, 39264.73344039, 40220.77556191,\n",
       "       41192.93907642, 42181.38791231])"
      ]
     },
     "execution_count": 24,
     "metadata": {},
     "output_type": "execute_result"
    }
   ],
   "source": [
    "#forecast 30 days ahead\n",
    "y1_full[x.size:x.size+30]"
   ]
  },
  {
   "cell_type": "markdown",
   "metadata": {},
   "source": [
    "If now the number of new infections is about 20 thousand per day,\n",
    "then in a month the number of new infections will be about 40 thousand per day."
   ]
  },
  {
   "cell_type": "code",
   "execution_count": 25,
   "metadata": {},
   "outputs": [
    {
     "data": {
      "text/plain": [
       "array([ 19547.39756706,  20139.31478436,  20743.35992265,  21359.67700914,\n",
       "        21988.41083645,  22629.70696264,  23283.71171121,  23950.57217108,\n",
       "        24630.43619659,  25323.45240752,  26029.7701891 ,  26749.53969195,\n",
       "        27482.91183215,  28230.0382912 ,  28991.07151603,  29766.16471901,\n",
       "        30555.47187793,  31359.147736  ,  32177.34780188,  33010.22834966,\n",
       "        33857.94641884,  34720.65981438,  35598.52710663,  36491.70763141,\n",
       "        37400.36148995,  38324.64954891,  39264.73344039,  40220.77556191,\n",
       "        41192.93907642,  42181.38791231,  43186.2867634 ,  44207.80108892,\n",
       "        45246.09711355,  46301.34182741,  47373.70298601,  48463.34911033,\n",
       "        49570.44948677,  50695.17416715,  51837.69396872,  52998.18047417,\n",
       "        54176.80603162,  55373.74375462,  56589.16752213,  57823.25197858,\n",
       "        59076.17253379,  60348.10536303,  61639.227407  ,  62949.71637182,\n",
       "        64279.75072906,  65629.5097157 ,  66999.17333417,  68388.9223523 ,\n",
       "        69798.93830337,  71229.40348611,  72680.50096463,  74152.41456852,\n",
       "        75645.32889278,  77159.42929782,  78694.90190951,  80251.93361915,\n",
       "        81830.71208345,  83431.42572455,  85054.26373005,  86699.41605294,\n",
       "        88367.07341168,  90057.42729013,  91770.6699376 ,  93506.99436881,\n",
       "        95266.59436392,  97049.66446853,  98856.39999366, 100686.99701575,\n",
       "       102541.6523767 , 104420.56368382, 106323.92930984, 108251.94839294,\n",
       "       110204.82083672, 112182.74731021, 114185.92924789, 116214.56884963,\n",
       "       118268.86908077, 120349.03367205, 122455.26711967, 124587.77468523,\n",
       "       126746.76239578, 128932.43704379, 131145.00618718, 133384.67814926,\n",
       "       135651.66201881, 137946.16765003])"
      ]
     },
     "execution_count": 25,
     "metadata": {},
     "output_type": "execute_result"
    }
   ],
   "source": [
    "#forecast 60/90 days ahead\n",
    "y1_full[x.size:x.size+90]"
   ]
  },
  {
   "cell_type": "markdown",
   "metadata": {},
   "source": [
    "In two months, the number of new infections will be 80 thousand per day.\n",
    "And after 3 months, the number of new infections will be 137 thousand per day."
   ]
  },
  {
   "cell_type": "markdown",
   "metadata": {},
   "source": [
    "###### Use the accumulated number of all infection cases for analysis (cumCasesBySpecimenDate)"
   ]
  },
  {
   "cell_type": "code",
   "execution_count": 26,
   "metadata": {},
   "outputs": [
    {
     "data": {
      "text/plain": [
       "LinearRegression(copy_X=True, fit_intercept=True, n_jobs=None,\n",
       "         normalize=False)"
      ]
     },
     "execution_count": 26,
     "metadata": {},
     "output_type": "execute_result"
    }
   ],
   "source": [
    "poly = PolynomialFeatures(degree = 4)\n",
    "x_poly_train = poly.fit_transform(x_train.reshape((-1, 1)))\n",
    "x_poly_test = poly.transform(x_test.reshape((-1, 1)))\n",
    "\n",
    "model = LinearRegression()\n",
    "model.fit(x_poly_train, y2_train)"
   ]
  },
  {
   "cell_type": "code",
   "execution_count": 27,
   "metadata": {},
   "outputs": [],
   "source": [
    "y2_pred = model.predict(x_poly_test)"
   ]
  },
  {
   "cell_type": "code",
   "execution_count": 28,
   "metadata": {},
   "outputs": [
    {
     "data": {
      "text/plain": [
       "151621143.81237918"
      ]
     },
     "execution_count": 28,
     "metadata": {},
     "output_type": "execute_result"
    }
   ],
   "source": [
    "mean_squared_error(y2_pred, y2_test)"
   ]
  },
  {
   "cell_type": "code",
   "execution_count": 29,
   "metadata": {},
   "outputs": [
    {
     "data": {
      "image/png": "[encoded data removed]",
      "text/plain": [
       "<Figure size 432x288 with 1 Axes>"
      ]
     },
     "metadata": {
      "needs_background": "light"
     },
     "output_type": "display_data"
    }
   ],
   "source": [
    "plt.plot(x, y2)\n",
    "plt.plot(x_test, y2_pred, c='r')\n",
    "plt.show()"
   ]
  },
  {
   "cell_type": "code",
   "execution_count": 30,
   "metadata": {},
   "outputs": [],
   "source": [
    "#make a forecast\n",
    "x_full_raw = np.array(range(360))\n",
    "x_full = poly.transform(x_full_raw.reshape((-1, 1)))\n",
    "y2_full = model.predict(x_full)"
   ]
  },
  {
   "cell_type": "code",
   "execution_count": 31,
   "metadata": {},
   "outputs": [
    {
     "data": {
      "image/png": "[encoded data removed]",
      "text/plain": [
       "<Figure size 432x288 with 1 Axes>"
      ]
     },
     "metadata": {
      "needs_background": "light"
     },
     "output_type": "display_data"
    }
   ],
   "source": [
    "plt.plot(x, y2)\n",
    "plt.plot(x_full_raw, y2_full, c='r')\n",
    "plt.show()"
   ]
  },
  {
   "cell_type": "code",
   "execution_count": 32,
   "metadata": {},
   "outputs": [
    {
     "data": {
      "text/plain": [
       "array([ 740447.51867181,  757296.54475647,  774562.38673245,\n",
       "        792251.45312888,  810370.19607726,  828925.11131141,\n",
       "        847922.73816751,  867369.65958406,  887272.50210191,\n",
       "        907637.93586425,  928472.67461662,  949783.47570688,\n",
       "        971577.14008526,  993860.51230429, 1016640.48051887,\n",
       "       1039923.97648624, 1063717.97556598, 1088029.49671998,\n",
       "       1112865.60251252, 1138233.39911019, 1164140.03628191,\n",
       "       1190592.70739898, 1217598.649435  , 1245165.14296594,\n",
       "       1273299.51217008, 1302009.12482808, 1331301.39232291,\n",
       "       1361183.76963989, 1391663.75536667, 1422748.89169327])"
      ]
     },
     "execution_count": 32,
     "metadata": {},
     "output_type": "execute_result"
    }
   ],
   "source": [
    "#forecast 30 days ahead\n",
    "y2_full[x.size:x.size+30]"
   ]
  },
  {
   "cell_type": "markdown",
   "metadata": {},
   "source": [
    "If there are 740 thousand coronavirus cases in England now, then in 30 days the total number of coronavirus cases will be 1 million 422 thousand people."
   ]
  },
  {
   "cell_type": "code",
   "execution_count": 33,
   "metadata": {},
   "outputs": [
    {
     "data": {
      "text/plain": [
       "array([ 740447.51867181,  757296.54475647,  774562.38673245,\n",
       "        792251.45312888,  810370.19607726,  828925.11131141,\n",
       "        847922.73816751,  867369.65958406,  887272.50210191,\n",
       "        907637.93586425,  928472.67461662,  949783.47570688,\n",
       "        971577.14008526,  993860.51230429, 1016640.48051887,\n",
       "       1039923.97648624, 1063717.97556598, 1088029.49671998,\n",
       "       1112865.60251252, 1138233.39911019, 1164140.03628191,\n",
       "       1190592.70739898, 1217598.649435  , 1245165.14296594,\n",
       "       1273299.51217008, 1302009.12482808, 1331301.39232291,\n",
       "       1361183.76963989, 1391663.75536667, 1422748.89169327,\n",
       "       1454446.76441202, 1486765.0029176 , 1519711.28020704,\n",
       "       1553293.31287969, 1587518.86113727, 1622395.72878381,\n",
       "       1657931.76322571, 1694134.85547168, 1731012.94013279,\n",
       "       1768573.99542244, 1806826.04315638, 1845777.14875271,\n",
       "       1885435.42123184, 1925809.01321655, 1966906.12093194,\n",
       "       2008734.98420546, 2051303.88646691, 2094621.1547484 ,\n",
       "       2138695.15968442, 2183534.31551177, 2229147.0800696 ,\n",
       "       2275541.95479942, 2322727.48474504, 2370712.25855264,\n",
       "       2419504.90847074, 2469114.11035018, 2519548.58364417,\n",
       "       2570817.09140824, 2622928.44030027, 2675891.48058046,\n",
       "       2729715.1061114 , 2784408.25435794, 2839979.90638736,\n",
       "       2896439.0868692 , 2953794.86407542, 3012056.34988025,\n",
       "       3071232.6997603 , 3131333.1127945 , 3192366.83166416,\n",
       "       3254343.14265286, 3317271.37564659, 3381160.90413364,\n",
       "       3446021.14520466, 3511861.55955264, 3578691.65147289,\n",
       "       3646520.96886308, 3715359.1032232 , 3785215.68965563,\n",
       "       3856100.40686502, 3928022.97715842, 4000993.16644518,\n",
       "       4075020.78423702, 4150115.68364799, 4226287.76139446,\n",
       "       4303546.95779517, 4381903.2567712 , 4461366.68584596,\n",
       "       4541947.31614518, 4623655.26239695, 4706500.68293173])"
      ]
     },
     "execution_count": 33,
     "metadata": {},
     "output_type": "execute_result"
    }
   ],
   "source": [
    "#forecast 90 days ahead\n",
    "y2_full[x.size:x.size+90]"
   ]
  },
  {
   "cell_type": "markdown",
   "metadata": {},
   "source": [
    "If there are 740 thousand coronavirus cases in England now, then in 2 months the total number of coronavirus cases will be 2 million 675 thousand people."
   ]
  },
  {
   "cell_type": "markdown",
   "metadata": {},
   "source": [
    "A total of 56 million people live in England. Thus, by the end of the year, about 5% of the population (4.77%) will be infected."
   ]
  },
  {
   "cell_type": "markdown",
   "metadata": {},
   "source": [
    "#### The number of hospitalizations: forecast"
   ]
  },
  {
   "cell_type": "markdown",
   "metadata": {},
   "source": [
    "Dataset source: https://coronavirus.data.gov.uk/cases"
   ]
  },
  {
   "cell_type": "code",
   "execution_count": 34,
   "metadata": {},
   "outputs": [
    {
     "data": {
      "text/html": [
       "<div>\n",
       "<style scoped>\n",
       "    .dataframe tbody tr th:only-of-type {\n",
       "        vertical-align: middle;\n",
       "    }\n",
       "\n",
       "    .dataframe tbody tr th {\n",
       "        vertical-align: top;\n",
       "    }\n",
       "\n",
       "    .dataframe thead th {\n",
       "        text-align: right;\n",
       "    }\n",
       "</style>\n",
       "<table border=\"1\" class=\"dataframe\">\n",
       "  <thead>\n",
       "    <tr style=\"text-align: right;\">\n",
       "      <th></th>\n",
       "      <th>areaType</th>\n",
       "      <th>areaName</th>\n",
       "      <th>areaCode</th>\n",
       "      <th>date</th>\n",
       "      <th>newAdmissions</th>\n",
       "      <th>cumAdmissions</th>\n",
       "    </tr>\n",
       "  </thead>\n",
       "  <tbody>\n",
       "    <tr>\n",
       "      <th>909</th>\n",
       "      <td>nation</td>\n",
       "      <td>Wales</td>\n",
       "      <td>W92000004</td>\n",
       "      <td>2020-03-23</td>\n",
       "      <td>32</td>\n",
       "      <td>32</td>\n",
       "    </tr>\n",
       "    <tr>\n",
       "      <th>908</th>\n",
       "      <td>nation</td>\n",
       "      <td>Wales</td>\n",
       "      <td>W92000004</td>\n",
       "      <td>2020-03-24</td>\n",
       "      <td>63</td>\n",
       "      <td>95</td>\n",
       "    </tr>\n",
       "    <tr>\n",
       "      <th>907</th>\n",
       "      <td>nation</td>\n",
       "      <td>Wales</td>\n",
       "      <td>W92000004</td>\n",
       "      <td>2020-03-25</td>\n",
       "      <td>178</td>\n",
       "      <td>273</td>\n",
       "    </tr>\n",
       "    <tr>\n",
       "      <th>906</th>\n",
       "      <td>nation</td>\n",
       "      <td>Wales</td>\n",
       "      <td>W92000004</td>\n",
       "      <td>2020-03-26</td>\n",
       "      <td>107</td>\n",
       "      <td>380</td>\n",
       "    </tr>\n",
       "    <tr>\n",
       "      <th>905</th>\n",
       "      <td>nation</td>\n",
       "      <td>Wales</td>\n",
       "      <td>W92000004</td>\n",
       "      <td>2020-03-27</td>\n",
       "      <td>118</td>\n",
       "      <td>498</td>\n",
       "    </tr>\n",
       "    <tr>\n",
       "      <th>904</th>\n",
       "      <td>nation</td>\n",
       "      <td>Wales</td>\n",
       "      <td>W92000004</td>\n",
       "      <td>2020-03-28</td>\n",
       "      <td>126</td>\n",
       "      <td>624</td>\n",
       "    </tr>\n",
       "    <tr>\n",
       "      <th>903</th>\n",
       "      <td>nation</td>\n",
       "      <td>Wales</td>\n",
       "      <td>W92000004</td>\n",
       "      <td>2020-03-29</td>\n",
       "      <td>133</td>\n",
       "      <td>757</td>\n",
       "    </tr>\n",
       "    <tr>\n",
       "      <th>902</th>\n",
       "      <td>nation</td>\n",
       "      <td>Wales</td>\n",
       "      <td>W92000004</td>\n",
       "      <td>2020-03-30</td>\n",
       "      <td>147</td>\n",
       "      <td>904</td>\n",
       "    </tr>\n",
       "    <tr>\n",
       "      <th>901</th>\n",
       "      <td>nation</td>\n",
       "      <td>Wales</td>\n",
       "      <td>W92000004</td>\n",
       "      <td>2020-03-31</td>\n",
       "      <td>158</td>\n",
       "      <td>1062</td>\n",
       "    </tr>\n",
       "    <tr>\n",
       "      <th>900</th>\n",
       "      <td>nation</td>\n",
       "      <td>Wales</td>\n",
       "      <td>W92000004</td>\n",
       "      <td>2020-04-01</td>\n",
       "      <td>207</td>\n",
       "      <td>1269</td>\n",
       "    </tr>\n",
       "  </tbody>\n",
       "</table>\n",
       "</div>"
      ],
      "text/plain": [
       "    areaType areaName   areaCode        date  newAdmissions  cumAdmissions\n",
       "909   nation    Wales  W92000004  2020-03-23             32             32\n",
       "908   nation    Wales  W92000004  2020-03-24             63             95\n",
       "907   nation    Wales  W92000004  2020-03-25            178            273\n",
       "906   nation    Wales  W92000004  2020-03-26            107            380\n",
       "905   nation    Wales  W92000004  2020-03-27            118            498\n",
       "904   nation    Wales  W92000004  2020-03-28            126            624\n",
       "903   nation    Wales  W92000004  2020-03-29            133            757\n",
       "902   nation    Wales  W92000004  2020-03-30            147            904\n",
       "901   nation    Wales  W92000004  2020-03-31            158           1062\n",
       "900   nation    Wales  W92000004  2020-04-01            207           1269"
      ]
     },
     "execution_count": 34,
     "metadata": {},
     "output_type": "execute_result"
    }
   ],
   "source": [
    "dataframe = pd.read_csv('hospital_cases_data_2020-Oct-27.csv')\n",
    "dataframe.drop([0, 1], inplace=True)\n",
    "dataframe = dataframe.reindex(index=dataframe.index[::-1])\n",
    "dataframe.head(10)"
   ]
  },
  {
   "cell_type": "code",
   "execution_count": 48,
   "metadata": {},
   "outputs": [
    {
     "data": {
      "text/plain": [
       "Index(['areaType', 'areaName', 'areaCode', 'date', 'newAdmissions',\n",
       "       'cumAdmissions'],\n",
       "      dtype='object')"
      ]
     },
     "execution_count": 48,
     "metadata": {},
     "output_type": "execute_result"
    }
   ],
   "source": [
    "dataframe.columns "
   ]
  },
  {
   "cell_type": "code",
   "execution_count": 49,
   "metadata": {},
   "outputs": [
    {
     "data": {
      "text/plain": [
       "908"
      ]
     },
     "execution_count": 49,
     "metadata": {},
     "output_type": "execute_result"
    }
   ],
   "source": [
    "len(dataframe['date'])"
   ]
  },
  {
   "cell_type": "code",
   "execution_count": 35,
   "metadata": {},
   "outputs": [],
   "source": [
    "import matplotlib.pyplot as plt\n",
    "plt.style.use('classic')\n",
    "import numpy as np\n",
    "%matplotlib inline"
   ]
  },
  {
   "cell_type": "code",
   "execution_count": 36,
   "metadata": {},
   "outputs": [
    {
     "data": {
      "text/html": [
       "<div>\n",
       "<style scoped>\n",
       "    .dataframe tbody tr th:only-of-type {\n",
       "        vertical-align: middle;\n",
       "    }\n",
       "\n",
       "    .dataframe tbody tr th {\n",
       "        vertical-align: top;\n",
       "    }\n",
       "\n",
       "    .dataframe thead th {\n",
       "        text-align: right;\n",
       "    }\n",
       "</style>\n",
       "<table border=\"1\" class=\"dataframe\">\n",
       "  <thead>\n",
       "    <tr style=\"text-align: right;\">\n",
       "      <th></th>\n",
       "      <th>areaType</th>\n",
       "      <th>areaName</th>\n",
       "      <th>areaCode</th>\n",
       "      <th>date</th>\n",
       "      <th>newAdmissions</th>\n",
       "      <th>cumAdmissions</th>\n",
       "    </tr>\n",
       "  </thead>\n",
       "  <tbody>\n",
       "    <tr>\n",
       "      <th>219</th>\n",
       "      <td>nation</td>\n",
       "      <td>England</td>\n",
       "      <td>E92000001</td>\n",
       "      <td>2020-03-19</td>\n",
       "      <td>586</td>\n",
       "      <td>586</td>\n",
       "    </tr>\n",
       "    <tr>\n",
       "      <th>218</th>\n",
       "      <td>nation</td>\n",
       "      <td>England</td>\n",
       "      <td>E92000001</td>\n",
       "      <td>2020-03-20</td>\n",
       "      <td>691</td>\n",
       "      <td>1277</td>\n",
       "    </tr>\n",
       "    <tr>\n",
       "      <th>217</th>\n",
       "      <td>nation</td>\n",
       "      <td>England</td>\n",
       "      <td>E92000001</td>\n",
       "      <td>2020-03-21</td>\n",
       "      <td>777</td>\n",
       "      <td>2054</td>\n",
       "    </tr>\n",
       "    <tr>\n",
       "      <th>216</th>\n",
       "      <td>nation</td>\n",
       "      <td>England</td>\n",
       "      <td>E92000001</td>\n",
       "      <td>2020-03-22</td>\n",
       "      <td>859</td>\n",
       "      <td>2913</td>\n",
       "    </tr>\n",
       "    <tr>\n",
       "      <th>215</th>\n",
       "      <td>nation</td>\n",
       "      <td>England</td>\n",
       "      <td>E92000001</td>\n",
       "      <td>2020-03-23</td>\n",
       "      <td>1128</td>\n",
       "      <td>4041</td>\n",
       "    </tr>\n",
       "    <tr>\n",
       "      <th>214</th>\n",
       "      <td>nation</td>\n",
       "      <td>England</td>\n",
       "      <td>E92000001</td>\n",
       "      <td>2020-03-24</td>\n",
       "      <td>1544</td>\n",
       "      <td>5585</td>\n",
       "    </tr>\n",
       "    <tr>\n",
       "      <th>213</th>\n",
       "      <td>nation</td>\n",
       "      <td>England</td>\n",
       "      <td>E92000001</td>\n",
       "      <td>2020-03-25</td>\n",
       "      <td>1755</td>\n",
       "      <td>7340</td>\n",
       "    </tr>\n",
       "    <tr>\n",
       "      <th>212</th>\n",
       "      <td>nation</td>\n",
       "      <td>England</td>\n",
       "      <td>E92000001</td>\n",
       "      <td>2020-03-26</td>\n",
       "      <td>1639</td>\n",
       "      <td>8979</td>\n",
       "    </tr>\n",
       "    <tr>\n",
       "      <th>211</th>\n",
       "      <td>nation</td>\n",
       "      <td>England</td>\n",
       "      <td>E92000001</td>\n",
       "      <td>2020-03-27</td>\n",
       "      <td>1931</td>\n",
       "      <td>10910</td>\n",
       "    </tr>\n",
       "    <tr>\n",
       "      <th>210</th>\n",
       "      <td>nation</td>\n",
       "      <td>England</td>\n",
       "      <td>E92000001</td>\n",
       "      <td>2020-03-28</td>\n",
       "      <td>1873</td>\n",
       "      <td>12783</td>\n",
       "    </tr>\n",
       "  </tbody>\n",
       "</table>\n",
       "</div>"
      ],
      "text/plain": [
       "    areaType areaName   areaCode        date  newAdmissions  cumAdmissions\n",
       "219   nation  England  E92000001  2020-03-19            586            586\n",
       "218   nation  England  E92000001  2020-03-20            691           1277\n",
       "217   nation  England  E92000001  2020-03-21            777           2054\n",
       "216   nation  England  E92000001  2020-03-22            859           2913\n",
       "215   nation  England  E92000001  2020-03-23           1128           4041\n",
       "214   nation  England  E92000001  2020-03-24           1544           5585\n",
       "213   nation  England  E92000001  2020-03-25           1755           7340\n",
       "212   nation  England  E92000001  2020-03-26           1639           8979\n",
       "211   nation  England  E92000001  2020-03-27           1931          10910\n",
       "210   nation  England  E92000001  2020-03-28           1873          12783"
      ]
     },
     "execution_count": 36,
     "metadata": {},
     "output_type": "execute_result"
    }
   ],
   "source": [
    "#select England only\n",
    "df = dataframe[dataframe['areaName']=='England']\n",
    "df.head(10)"
   ]
  },
  {
   "cell_type": "code",
   "execution_count": 37,
   "metadata": {},
   "outputs": [
    {
     "name": "stderr",
     "output_type": "stream",
     "text": [
      "C:\\Users\\user\\Anaconda3\\lib\\site-packages\\ipykernel_launcher.py:1: SettingWithCopyWarning: \n",
      "A value is trying to be set on a copy of a slice from a DataFrame.\n",
      "Try using .loc[row_indexer,col_indexer] = value instead\n",
      "\n",
      "See the caveats in the documentation: https://pandas.pydata.org/pandas-docs/stable/user_guide/indexing.html#returning-a-view-versus-a-copy\n",
      "  \"\"\"Entry point for launching an IPython kernel.\n"
     ]
    },
    {
     "data": {
      "image/png": "[encoded data removed]",
      "text/plain": [
       "<Figure size 720x360 with 1 Axes>"
      ]
     },
     "metadata": {
      "needs_background": "light"
     },
     "output_type": "display_data"
    }
   ],
   "source": [
    "df['date'] = pd.to_datetime(df['date'], format='%Y-%m-%d')\n",
    "index_date = df.set_index('date')\n",
    "ts = index_date['newAdmissions']\n",
    "plt.figure(figsize=(10,5))\n",
    "plt.plot(ts)\n",
    "plt.show()"
   ]
  },
  {
   "cell_type": "code",
   "execution_count": 38,
   "metadata": {},
   "outputs": [
    {
     "data": {
      "text/html": [
       "<div>\n",
       "<style scoped>\n",
       "    .dataframe tbody tr th:only-of-type {\n",
       "        vertical-align: middle;\n",
       "    }\n",
       "\n",
       "    .dataframe tbody tr th {\n",
       "        vertical-align: top;\n",
       "    }\n",
       "\n",
       "    .dataframe thead th {\n",
       "        text-align: right;\n",
       "    }\n",
       "</style>\n",
       "<table border=\"1\" class=\"dataframe\">\n",
       "  <thead>\n",
       "    <tr style=\"text-align: right;\">\n",
       "      <th></th>\n",
       "      <th>date</th>\n",
       "      <th>newAdmissions</th>\n",
       "      <th>cumAdmissions</th>\n",
       "    </tr>\n",
       "  </thead>\n",
       "  <tbody>\n",
       "    <tr>\n",
       "      <th>219</th>\n",
       "      <td>2020-03-19</td>\n",
       "      <td>586</td>\n",
       "      <td>586</td>\n",
       "    </tr>\n",
       "    <tr>\n",
       "      <th>218</th>\n",
       "      <td>2020-03-20</td>\n",
       "      <td>691</td>\n",
       "      <td>1277</td>\n",
       "    </tr>\n",
       "    <tr>\n",
       "      <th>217</th>\n",
       "      <td>2020-03-21</td>\n",
       "      <td>777</td>\n",
       "      <td>2054</td>\n",
       "    </tr>\n",
       "    <tr>\n",
       "      <th>216</th>\n",
       "      <td>2020-03-22</td>\n",
       "      <td>859</td>\n",
       "      <td>2913</td>\n",
       "    </tr>\n",
       "    <tr>\n",
       "      <th>215</th>\n",
       "      <td>2020-03-23</td>\n",
       "      <td>1128</td>\n",
       "      <td>4041</td>\n",
       "    </tr>\n",
       "    <tr>\n",
       "      <th>214</th>\n",
       "      <td>2020-03-24</td>\n",
       "      <td>1544</td>\n",
       "      <td>5585</td>\n",
       "    </tr>\n",
       "    <tr>\n",
       "      <th>213</th>\n",
       "      <td>2020-03-25</td>\n",
       "      <td>1755</td>\n",
       "      <td>7340</td>\n",
       "    </tr>\n",
       "    <tr>\n",
       "      <th>212</th>\n",
       "      <td>2020-03-26</td>\n",
       "      <td>1639</td>\n",
       "      <td>8979</td>\n",
       "    </tr>\n",
       "    <tr>\n",
       "      <th>211</th>\n",
       "      <td>2020-03-27</td>\n",
       "      <td>1931</td>\n",
       "      <td>10910</td>\n",
       "    </tr>\n",
       "    <tr>\n",
       "      <th>210</th>\n",
       "      <td>2020-03-28</td>\n",
       "      <td>1873</td>\n",
       "      <td>12783</td>\n",
       "    </tr>\n",
       "  </tbody>\n",
       "</table>\n",
       "</div>"
      ],
      "text/plain": [
       "          date  newAdmissions  cumAdmissions\n",
       "219 2020-03-19            586            586\n",
       "218 2020-03-20            691           1277\n",
       "217 2020-03-21            777           2054\n",
       "216 2020-03-22            859           2913\n",
       "215 2020-03-23           1128           4041\n",
       "214 2020-03-24           1544           5585\n",
       "213 2020-03-25           1755           7340\n",
       "212 2020-03-26           1639           8979\n",
       "211 2020-03-27           1931          10910\n",
       "210 2020-03-28           1873          12783"
      ]
     },
     "execution_count": 38,
     "metadata": {},
     "output_type": "execute_result"
    }
   ],
   "source": [
    "#Select the relevnt colomns:: date, newAdmissions, cumAdmissions\n",
    "df = df[['date', 'newAdmissions', 'cumAdmissions']]\n",
    "df.head(10)"
   ]
  },
  {
   "cell_type": "code",
   "execution_count": 40,
   "metadata": {},
   "outputs": [
    {
     "data": {
      "text/plain": [
       "array([  0,   1,   2,   3,   4,   5,   6,   7,   8,   9,  10,  11,  12,\n",
       "        13,  14,  15,  16,  17,  18,  19,  20,  21,  22,  23,  24,  25,\n",
       "        26,  27,  28,  29,  30,  31,  32,  33,  34,  35,  36,  37,  38,\n",
       "        39,  40,  41,  42,  43,  44,  45,  46,  47,  48,  49,  50,  51,\n",
       "        52,  53,  54,  55,  56,  57,  58,  59,  60,  61,  62,  63,  64,\n",
       "        65,  66,  67,  68,  69,  70,  71,  72,  73,  74,  75,  76,  77,\n",
       "        78,  79,  80,  81,  82,  83,  84,  85,  86,  87,  88,  89,  90,\n",
       "        91,  92,  93,  94,  95,  96,  97,  98,  99, 100, 101, 102, 103,\n",
       "       104, 105, 106, 107, 108, 109, 110, 111, 112, 113, 114, 115, 116,\n",
       "       117, 118, 119, 120, 121, 122, 123, 124, 125, 126, 127, 128, 129,\n",
       "       130, 131, 132, 133, 134, 135, 136, 137, 138, 139, 140, 141, 142,\n",
       "       143, 144, 145, 146, 147, 148, 149, 150, 151, 152, 153, 154, 155,\n",
       "       156, 157, 158, 159, 160, 161, 162, 163, 164, 165, 166, 167, 168,\n",
       "       169, 170, 171, 172, 173, 174, 175, 176, 177, 178, 179, 180, 181,\n",
       "       182, 183, 184, 185, 186, 187, 188, 189, 190, 191, 192, 193, 194,\n",
       "       195, 196, 197, 198, 199, 200, 201, 202, 203, 204, 205, 206, 207,\n",
       "       208, 209, 210, 211, 212, 213, 214, 215, 216, 217])"
      ]
     },
     "execution_count": 40,
     "metadata": {},
     "output_type": "execute_result"
    }
   ],
   "source": [
    "#present the dates as a range of integers\n",
    "x = df['date'].values\n",
    "x = np.array(range(len(x)))\n",
    "x"
   ]
  },
  {
   "cell_type": "code",
   "execution_count": 109,
   "metadata": {},
   "outputs": [],
   "source": [
    "#Predicting the dynamics of new hospitalizations in England\n",
    "#x - the dates as a range of integers\n",
    "#y1  - new hospitalizations(newAdmissions) \n",
    "#y2 - total hospitalizations since the beginning of the epidemic(cumAdmissions)"
   ]
  },
  {
   "cell_type": "code",
   "execution_count": 41,
   "metadata": {},
   "outputs": [
    {
     "data": {
      "text/plain": [
       "array([  0,   4,   8,  12,  16,  20,  24,  28,  32,  36,  40,  44,  48,\n",
       "        52,  56,  60,  64,  68,  72,  76,  80,  84,  88,  92,  96, 100,\n",
       "       104, 108, 112, 116, 120, 124, 128, 132, 136, 140, 144, 148, 152,\n",
       "       156, 160, 164, 168, 172, 176, 180, 184, 188, 192, 196, 200, 204,\n",
       "       208, 212, 216])"
      ]
     },
     "execution_count": 41,
     "metadata": {},
     "output_type": "execute_result"
    }
   ],
   "source": [
    "#every 4th value of x place into test data\n",
    "x_test = x[::4]\n",
    "x_test"
   ]
  },
  {
   "cell_type": "code",
   "execution_count": 42,
   "metadata": {},
   "outputs": [
    {
     "data": {
      "text/plain": [
       "array([  1,   2,   3,   5,   6,   7,   9,  10,  11,  13,  14,  15,  17,\n",
       "        18,  19,  21,  22,  23,  25,  26,  27,  29,  30,  31,  33,  34,\n",
       "        35,  37,  38,  39,  41,  42,  43,  45,  46,  47,  49,  50,  51,\n",
       "        53,  54,  55,  57,  58,  59,  61,  62,  63,  65,  66,  67,  69,\n",
       "        70,  71,  73,  74,  75,  77,  78,  79,  81,  82,  83,  85,  86,\n",
       "        87,  89,  90,  91,  93,  94,  95,  97,  98,  99, 101, 102, 103,\n",
       "       105, 106, 107, 109, 110, 111, 113, 114, 115, 117, 118, 119, 121,\n",
       "       122, 123, 125, 126, 127, 129, 130, 131, 133, 134, 135, 137, 138,\n",
       "       139, 141, 142, 143, 145, 146, 147, 149, 150, 151, 153, 154, 155,\n",
       "       157, 158, 159, 161, 162, 163, 165, 166, 167, 169, 170, 171, 173,\n",
       "       174, 175, 177, 178, 179, 181, 182, 183, 185, 186, 187, 189, 190,\n",
       "       191, 193, 194, 195, 197, 198, 199, 201, 202, 203, 205, 206, 207,\n",
       "       209, 210, 211, 213, 214, 215, 217])"
      ]
     },
     "execution_count": 42,
     "metadata": {},
     "output_type": "execute_result"
    }
   ],
   "source": [
    "#create a mask and separate 3 out of 4 remining values of the dataset x_train\n",
    "mask_x_train = np.array([True]*len(x))\n",
    "mask_x_train[::4] = False\n",
    "x_train = x[mask_x_train]\n",
    "x_train"
   ]
  },
  {
   "cell_type": "code",
   "execution_count": 43,
   "metadata": {},
   "outputs": [],
   "source": [
    "#number of new hospitalizations(newAdmissions)\n",
    "y1 = df['newAdmissions'].values"
   ]
  },
  {
   "cell_type": "code",
   "execution_count": 44,
   "metadata": {},
   "outputs": [],
   "source": [
    "#cumulative number of all hospitalizations(cumAdmissions)\n",
    "y2 = df['cumAdmissions'].values"
   ]
  },
  {
   "cell_type": "code",
   "execution_count": 46,
   "metadata": {},
   "outputs": [],
   "source": [
    "#every 4th value of y place into test data\n",
    "y1_test = y1[::4]\n",
    "y2_test = y2[::4]"
   ]
  },
  {
   "cell_type": "code",
   "execution_count": 47,
   "metadata": {},
   "outputs": [
    {
     "name": "stdout",
     "output_type": "stream",
     "text": [
      "y1_train = [ 691  777  859 1544 1755 1639 1873 2186 2817 3099 2932 2564 2592 2679\n",
      " 2744 2340 2196 1955 1912 1859 1608 1674 1411 1475 1495 1310 1289 1080\n",
      " 1208 1344 1295 1227 1081 1077 1094  959  998  743  798  866  844  804\n",
      "  738  671  673  752  732  715  504  497  498  589  570  499  446  522\n",
      "  553  458  380  306  348  397  402  298  265  306  354  334  312  184\n",
      "  215  318  262  256  248  155  172  189  149  146  120  150  148  141\n",
      "  104   97   72  122  116  114   48   72   86   82  109   93   64   82\n",
      "   69   75   55   50   74   58   60   60   78   53   63   51   60   38\n",
      "   39   46   58   45   49   44   41   60   69   44   52   52   58   79\n",
      "   67   94   85   99  136  143  143  153  172  183  199  205  237  275\n",
      "  268  288  274  245  308  310  328  371  386  478  524  491  513  515\n",
      "  628  664  706  792  632  870  861  925  987]\n",
      "y2_train = [  1277   2054   2913   5585   7340   8979  12783  14969  17786  23332\n",
      "  26264  28828  34013  36692  39436  44395  46591  48546  52249  54108\n",
      "  55716  59167  60578  62053  65070  66380  67669  70026  71234  72578\n",
      "  75169  76396  77477  79534  80628  81587  83625  84368  85166  86788\n",
      "  87632  88436  89937  90608  91281  92766  93498  94213  95355  95852\n",
      "  96350  97517  98087  98586  99498 100020 100573 101522 101902 102208\n",
      " 102879 103276 103678 104306 104571 104877 105596 105930 106242 106679\n",
      " 106894 107212 107749 108005 108253 108617 108789 108978 109328 109474\n",
      " 109594 109875 110023 110164 110404 110501 110573 110832 110948 111062\n",
      " 111193 111265 111351 111512 111621 111714 111843 111925 111994 112132\n",
      " 112187 112237 112368 112426 112486 112598 112676 112729 112842 112893\n",
      " 112953 113046 113085 113131 113245 113290 113339 113408 113449 113509\n",
      " 113630 113674 113726 113816 113874 113953 114089 114183 114268 114451\n",
      " 114587 114730 115008 115161 115333 115710 115909 116114 116555 116830\n",
      " 117098 117700 117974 118219 118768 119078 119406 120145 120531 121009\n",
      " 122005 122496 123009 124068 124696 125360 126830 127622 128254 129909\n",
      " 130770 131695 133679]\n"
     ]
    }
   ],
   "source": [
    "#create a mask for y1, y2\n",
    "#select 3 out of 4 values for a train dataset, \n",
    "mask_y_train = np.array([True]*len(x))\n",
    "mask_y_train[::4] = False\n",
    "y1_train = y1[mask_y_train]\n",
    "print('y1_train =', y1_train)\n",
    "y2_train = y2[mask_y_train]\n",
    "print('y2_train =', y2_train)"
   ]
  },
  {
   "cell_type": "markdown",
   "metadata": {},
   "source": [
    "Building the model / use Polynomial regression ."
   ]
  },
  {
   "cell_type": "code",
   "execution_count": 48,
   "metadata": {},
   "outputs": [],
   "source": [
    "from sklearn.preprocessing import PolynomialFeatures\n",
    "from sklearn.linear_model import LinearRegression\n",
    "from sklearn.metrics import mean_squared_error"
   ]
  },
  {
   "cell_type": "markdown",
   "metadata": {},
   "source": [
    "###### Use the number of new hospitalizations for the analysis.(newAdmissions) "
   ]
  },
  {
   "cell_type": "code",
   "execution_count": 49,
   "metadata": {},
   "outputs": [
    {
     "data": {
      "text/plain": [
       "LinearRegression(copy_X=True, fit_intercept=True, n_jobs=None,\n",
       "         normalize=False)"
      ]
     },
     "execution_count": 49,
     "metadata": {},
     "output_type": "execute_result"
    }
   ],
   "source": [
    "# choose a hyperparameter - polynomial _? - th degree\n",
    "poly = PolynomialFeatures(degree = 5)\n",
    "x_poly_train = poly.fit_transform(x_train.reshape((-1, 1)))\n",
    "x_poly_test = poly.transform(x_test.reshape((-1, 1)))\n",
    "\n",
    "# create and train the model\n",
    "model = LinearRegression()\n",
    "model.fit(x_poly_train, y1_train)"
   ]
  },
  {
   "cell_type": "code",
   "execution_count": 50,
   "metadata": {},
   "outputs": [],
   "source": [
    "#prediction\n",
    "y1_pred = model.predict(x_poly_test)"
   ]
  },
  {
   "cell_type": "code",
   "execution_count": 51,
   "metadata": {},
   "outputs": [
    {
     "data": {
      "text/plain": [
       "54853.702606356754"
      ]
     },
     "execution_count": 51,
     "metadata": {},
     "output_type": "execute_result"
    }
   ],
   "source": [
    "mean_squared_error(y1_pred, y1_test)"
   ]
  },
  {
   "cell_type": "code",
   "execution_count": 52,
   "metadata": {},
   "outputs": [
    {
     "data": {
      "image/png": "[encoded data removed]",
      "text/plain": [
       "<Figure size 432x288 with 1 Axes>"
      ]
     },
     "metadata": {
      "needs_background": "light"
     },
     "output_type": "display_data"
    }
   ],
   "source": [
    "#build a graph and see how well we approximated the model\n",
    "plt.plot(x, y1)\n",
    "plt.plot(x_test, y1_pred, c='r')\n",
    "plt.show()"
   ]
  },
  {
   "cell_type": "code",
   "execution_count": 53,
   "metadata": {},
   "outputs": [],
   "source": [
    "# make a forecast\n",
    "x_full_raw = np.array(range(270))\n",
    "x_full = poly.transform(x_full_raw.reshape((-1, 1)))\n",
    "y1_full = model.predict(x_full)"
   ]
  },
  {
   "cell_type": "code",
   "execution_count": 54,
   "metadata": {},
   "outputs": [
    {
     "data": {
      "image/png": "[encoded data removed]",
      "text/plain": [
       "<Figure size 432x288 with 1 Axes>"
      ]
     },
     "metadata": {
      "needs_background": "light"
     },
     "output_type": "display_data"
    }
   ],
   "source": [
    "#prediction chart of hospitalizations in England\n",
    "plt.plot(x, y1)\n",
    "plt.plot(x_full_raw, y1_full, c='r')\n",
    "plt.show()"
   ]
  },
  {
   "cell_type": "code",
   "execution_count": 55,
   "metadata": {},
   "outputs": [
    {
     "data": {
      "text/plain": [
       "array([1310.43791165, 1399.08732563, 1492.49847032, 1590.84193992,\n",
       "       1694.29194408, 1803.02634167, 1917.2266746 , 2037.07820161,\n",
       "       2162.76993213, 2294.49466007, 2432.44899763, 2576.83340912,\n",
       "       2727.85224478, 2885.71377458, 3050.63022206, 3222.8177981 ,\n",
       "       3402.49673478, 3589.89131918, 3785.22992718, 3988.74505728,\n",
       "       4200.67336442, 4421.25569382, 4650.73711472, 4889.36695427,\n",
       "       5137.39883132, 5395.09069021, 5662.70483462, 5940.50796137,\n",
       "       6228.77119421, 6527.77011767])"
      ]
     },
     "execution_count": 55,
     "metadata": {},
     "output_type": "execute_result"
    }
   ],
   "source": [
    "# 30 days forecast\n",
    "y1_full[x.size:x.size+30]"
   ]
  },
  {
   "cell_type": "markdown",
   "metadata": {},
   "source": [
    "In a month there will be 6527 hospitalizations per day."
   ]
  },
  {
   "cell_type": "code",
   "execution_count": 56,
   "metadata": {},
   "outputs": [
    {
     "data": {
      "text/plain": [
       "array([ 1310.43791165,  1399.08732563,  1492.49847032,  1590.84193992,\n",
       "        1694.29194408,  1803.02634167,  1917.2266746 ,  2037.07820161,\n",
       "        2162.76993213,  2294.49466007,  2432.44899763,  2576.83340912,\n",
       "        2727.85224478,  2885.71377458,  3050.63022206,  3222.8177981 ,\n",
       "        3402.49673478,  3589.89131918,  3785.22992718,  3988.74505728,\n",
       "        4200.67336442,  4421.25569382,  4650.73711472,  4889.36695427,\n",
       "        5137.39883132,  5395.09069021,  5662.70483462,  5940.50796137,\n",
       "        6228.77119421,  6527.77011767,  6837.78481088,  7159.09988134,\n",
       "        7492.00449876,  7836.79242888,  8193.76206729,  8563.21647321,\n",
       "        8945.46340335,  9340.81534567,  9749.58955325, 10172.10807808,\n",
       "       10608.69780486, 11059.69048483, 11525.42276959, 12006.2362449 ,\n",
       "       12502.4774645 , 13014.49798392, 13542.65439431, 14087.30835625,\n",
       "       14648.82663353, 15227.58112702, 15823.94890843, 16438.31225417])"
      ]
     },
     "execution_count": 56,
     "metadata": {},
     "output_type": "execute_result"
    }
   ],
   "source": [
    "# 90 days forecast\n",
    "y1_full[x.size:x.size+90]"
   ]
  },
  {
   "cell_type": "markdown",
   "metadata": {},
   "source": [
    "### Forecast of new deaths daily"
   ]
  },
  {
   "cell_type": "code",
   "execution_count": 1,
   "metadata": {},
   "outputs": [],
   "source": [
    "import pandas as pd\n",
    "import matplotlib.pyplot as plt\n",
    "plt.style.use('classic')\n",
    "import numpy as np\n",
    "%matplotlib inline"
   ]
  },
  {
   "cell_type": "code",
   "execution_count": 2,
   "metadata": {},
   "outputs": [
    {
     "data": {
      "text/html": [
       "<div>\n",
       "<style scoped>\n",
       "    .dataframe tbody tr th:only-of-type {\n",
       "        vertical-align: middle;\n",
       "    }\n",
       "\n",
       "    .dataframe tbody tr th {\n",
       "        vertical-align: top;\n",
       "    }\n",
       "\n",
       "    .dataframe thead th {\n",
       "        text-align: right;\n",
       "    }\n",
       "</style>\n",
       "<table border=\"1\" class=\"dataframe\">\n",
       "  <thead>\n",
       "    <tr style=\"text-align: right;\">\n",
       "      <th></th>\n",
       "      <th>areaType</th>\n",
       "      <th>areaName</th>\n",
       "      <th>areaCode</th>\n",
       "      <th>date</th>\n",
       "      <th>newDeaths28DaysByDeathDate</th>\n",
       "      <th>cumDeaths28DaysByDeathDate</th>\n",
       "    </tr>\n",
       "  </thead>\n",
       "  <tbody>\n",
       "    <tr>\n",
       "      <th>945</th>\n",
       "      <td>nation</td>\n",
       "      <td>Wales</td>\n",
       "      <td>W92000004</td>\n",
       "      <td>2020-03-16</td>\n",
       "      <td>3.0</td>\n",
       "      <td>3.0</td>\n",
       "    </tr>\n",
       "    <tr>\n",
       "      <th>944</th>\n",
       "      <td>nation</td>\n",
       "      <td>Wales</td>\n",
       "      <td>W92000004</td>\n",
       "      <td>2020-03-17</td>\n",
       "      <td>0.0</td>\n",
       "      <td>3.0</td>\n",
       "    </tr>\n",
       "    <tr>\n",
       "      <th>943</th>\n",
       "      <td>nation</td>\n",
       "      <td>Wales</td>\n",
       "      <td>W92000004</td>\n",
       "      <td>2020-03-18</td>\n",
       "      <td>0.0</td>\n",
       "      <td>3.0</td>\n",
       "    </tr>\n",
       "    <tr>\n",
       "      <th>942</th>\n",
       "      <td>nation</td>\n",
       "      <td>Wales</td>\n",
       "      <td>W92000004</td>\n",
       "      <td>2020-03-19</td>\n",
       "      <td>3.0</td>\n",
       "      <td>6.0</td>\n",
       "    </tr>\n",
       "    <tr>\n",
       "      <th>941</th>\n",
       "      <td>nation</td>\n",
       "      <td>Wales</td>\n",
       "      <td>W92000004</td>\n",
       "      <td>2020-03-20</td>\n",
       "      <td>2.0</td>\n",
       "      <td>8.0</td>\n",
       "    </tr>\n",
       "    <tr>\n",
       "      <th>940</th>\n",
       "      <td>nation</td>\n",
       "      <td>Wales</td>\n",
       "      <td>W92000004</td>\n",
       "      <td>2020-03-21</td>\n",
       "      <td>7.0</td>\n",
       "      <td>15.0</td>\n",
       "    </tr>\n",
       "    <tr>\n",
       "      <th>939</th>\n",
       "      <td>nation</td>\n",
       "      <td>Wales</td>\n",
       "      <td>W92000004</td>\n",
       "      <td>2020-03-22</td>\n",
       "      <td>5.0</td>\n",
       "      <td>20.0</td>\n",
       "    </tr>\n",
       "    <tr>\n",
       "      <th>938</th>\n",
       "      <td>nation</td>\n",
       "      <td>Wales</td>\n",
       "      <td>W92000004</td>\n",
       "      <td>2020-03-23</td>\n",
       "      <td>4.0</td>\n",
       "      <td>24.0</td>\n",
       "    </tr>\n",
       "    <tr>\n",
       "      <th>937</th>\n",
       "      <td>nation</td>\n",
       "      <td>Wales</td>\n",
       "      <td>W92000004</td>\n",
       "      <td>2020-03-24</td>\n",
       "      <td>9.0</td>\n",
       "      <td>33.0</td>\n",
       "    </tr>\n",
       "    <tr>\n",
       "      <th>936</th>\n",
       "      <td>nation</td>\n",
       "      <td>Wales</td>\n",
       "      <td>W92000004</td>\n",
       "      <td>2020-03-25</td>\n",
       "      <td>10.0</td>\n",
       "      <td>43.0</td>\n",
       "    </tr>\n",
       "  </tbody>\n",
       "</table>\n",
       "</div>"
      ],
      "text/plain": [
       "    areaType areaName   areaCode        date  newDeaths28DaysByDeathDate  \\\n",
       "945   nation    Wales  W92000004  2020-03-16                         3.0   \n",
       "944   nation    Wales  W92000004  2020-03-17                         0.0   \n",
       "943   nation    Wales  W92000004  2020-03-18                         0.0   \n",
       "942   nation    Wales  W92000004  2020-03-19                         3.0   \n",
       "941   nation    Wales  W92000004  2020-03-20                         2.0   \n",
       "940   nation    Wales  W92000004  2020-03-21                         7.0   \n",
       "939   nation    Wales  W92000004  2020-03-22                         5.0   \n",
       "938   nation    Wales  W92000004  2020-03-23                         4.0   \n",
       "937   nation    Wales  W92000004  2020-03-24                         9.0   \n",
       "936   nation    Wales  W92000004  2020-03-25                        10.0   \n",
       "\n",
       "     cumDeaths28DaysByDeathDate  \n",
       "945                         3.0  \n",
       "944                         3.0  \n",
       "943                         3.0  \n",
       "942                         6.0  \n",
       "941                         8.0  \n",
       "940                        15.0  \n",
       "939                        20.0  \n",
       "938                        24.0  \n",
       "937                        33.0  \n",
       "936                        43.0  "
      ]
     },
     "execution_count": 2,
     "metadata": {},
     "output_type": "execute_result"
    }
   ],
   "source": [
    "dataframe = pd.read_csv('XXXdata_2020-Nov-01.csv')\n",
    "dataframe.drop([0, 1], inplace=True)\n",
    "dataframe = dataframe.reindex(index=dataframe.index[::-1])\n",
    "dataframe.head(10)"
   ]
  },
  {
   "cell_type": "code",
   "execution_count": 3,
   "metadata": {},
   "outputs": [
    {
     "data": {
      "text/plain": [
       "Index(['areaType', 'areaName', 'areaCode', 'date',\n",
       "       'newDeaths28DaysByDeathDate', 'cumDeaths28DaysByDeathDate'],\n",
       "      dtype='object')"
      ]
     },
     "execution_count": 3,
     "metadata": {},
     "output_type": "execute_result"
    }
   ],
   "source": [
    "dataframe.columns "
   ]
  },
  {
   "cell_type": "code",
   "execution_count": 4,
   "metadata": {},
   "outputs": [
    {
     "data": {
      "text/plain": [
       "944"
      ]
     },
     "execution_count": 4,
     "metadata": {},
     "output_type": "execute_result"
    }
   ],
   "source": [
    "len(dataframe['date'])"
   ]
  },
  {
   "cell_type": "code",
   "execution_count": 5,
   "metadata": {},
   "outputs": [],
   "source": [
    "#select England only\n",
    "df = dataframe[dataframe['areaName']=='England']"
   ]
  },
  {
   "cell_type": "code",
   "execution_count": 6,
   "metadata": {},
   "outputs": [
    {
     "data": {
      "text/html": [
       "<div>\n",
       "<style scoped>\n",
       "    .dataframe tbody tr th:only-of-type {\n",
       "        vertical-align: middle;\n",
       "    }\n",
       "\n",
       "    .dataframe tbody tr th {\n",
       "        vertical-align: top;\n",
       "    }\n",
       "\n",
       "    .dataframe thead th {\n",
       "        text-align: right;\n",
       "    }\n",
       "</style>\n",
       "<table border=\"1\" class=\"dataframe\">\n",
       "  <thead>\n",
       "    <tr style=\"text-align: right;\">\n",
       "      <th></th>\n",
       "      <th>areaType</th>\n",
       "      <th>areaName</th>\n",
       "      <th>areaCode</th>\n",
       "      <th>date</th>\n",
       "      <th>newDeaths28DaysByDeathDate</th>\n",
       "      <th>cumDeaths28DaysByDeathDate</th>\n",
       "    </tr>\n",
       "  </thead>\n",
       "  <tbody>\n",
       "    <tr>\n",
       "      <th>243</th>\n",
       "      <td>nation</td>\n",
       "      <td>England</td>\n",
       "      <td>E92000001</td>\n",
       "      <td>2020-03-02</td>\n",
       "      <td>1.0</td>\n",
       "      <td>1.0</td>\n",
       "    </tr>\n",
       "    <tr>\n",
       "      <th>242</th>\n",
       "      <td>nation</td>\n",
       "      <td>England</td>\n",
       "      <td>E92000001</td>\n",
       "      <td>2020-03-03</td>\n",
       "      <td>2.0</td>\n",
       "      <td>3.0</td>\n",
       "    </tr>\n",
       "    <tr>\n",
       "      <th>241</th>\n",
       "      <td>nation</td>\n",
       "      <td>England</td>\n",
       "      <td>E92000001</td>\n",
       "      <td>2020-03-04</td>\n",
       "      <td>0.0</td>\n",
       "      <td>NaN</td>\n",
       "    </tr>\n",
       "    <tr>\n",
       "      <th>240</th>\n",
       "      <td>nation</td>\n",
       "      <td>England</td>\n",
       "      <td>E92000001</td>\n",
       "      <td>2020-03-05</td>\n",
       "      <td>3.0</td>\n",
       "      <td>6.0</td>\n",
       "    </tr>\n",
       "    <tr>\n",
       "      <th>239</th>\n",
       "      <td>nation</td>\n",
       "      <td>England</td>\n",
       "      <td>E92000001</td>\n",
       "      <td>2020-03-06</td>\n",
       "      <td>0.0</td>\n",
       "      <td>NaN</td>\n",
       "    </tr>\n",
       "    <tr>\n",
       "      <th>238</th>\n",
       "      <td>nation</td>\n",
       "      <td>England</td>\n",
       "      <td>E92000001</td>\n",
       "      <td>2020-03-07</td>\n",
       "      <td>0.0</td>\n",
       "      <td>NaN</td>\n",
       "    </tr>\n",
       "    <tr>\n",
       "      <th>237</th>\n",
       "      <td>nation</td>\n",
       "      <td>England</td>\n",
       "      <td>E92000001</td>\n",
       "      <td>2020-03-08</td>\n",
       "      <td>3.0</td>\n",
       "      <td>9.0</td>\n",
       "    </tr>\n",
       "    <tr>\n",
       "      <th>236</th>\n",
       "      <td>nation</td>\n",
       "      <td>England</td>\n",
       "      <td>E92000001</td>\n",
       "      <td>2020-03-09</td>\n",
       "      <td>5.0</td>\n",
       "      <td>14.0</td>\n",
       "    </tr>\n",
       "    <tr>\n",
       "      <th>235</th>\n",
       "      <td>nation</td>\n",
       "      <td>England</td>\n",
       "      <td>E92000001</td>\n",
       "      <td>2020-03-10</td>\n",
       "      <td>3.0</td>\n",
       "      <td>17.0</td>\n",
       "    </tr>\n",
       "    <tr>\n",
       "      <th>234</th>\n",
       "      <td>nation</td>\n",
       "      <td>England</td>\n",
       "      <td>E92000001</td>\n",
       "      <td>2020-03-11</td>\n",
       "      <td>8.0</td>\n",
       "      <td>25.0</td>\n",
       "    </tr>\n",
       "  </tbody>\n",
       "</table>\n",
       "</div>"
      ],
      "text/plain": [
       "    areaType areaName   areaCode        date  newDeaths28DaysByDeathDate  \\\n",
       "243   nation  England  E92000001  2020-03-02                         1.0   \n",
       "242   nation  England  E92000001  2020-03-03                         2.0   \n",
       "241   nation  England  E92000001  2020-03-04                         0.0   \n",
       "240   nation  England  E92000001  2020-03-05                         3.0   \n",
       "239   nation  England  E92000001  2020-03-06                         0.0   \n",
       "238   nation  England  E92000001  2020-03-07                         0.0   \n",
       "237   nation  England  E92000001  2020-03-08                         3.0   \n",
       "236   nation  England  E92000001  2020-03-09                         5.0   \n",
       "235   nation  England  E92000001  2020-03-10                         3.0   \n",
       "234   nation  England  E92000001  2020-03-11                         8.0   \n",
       "\n",
       "     cumDeaths28DaysByDeathDate  \n",
       "243                         1.0  \n",
       "242                         3.0  \n",
       "241                         NaN  \n",
       "240                         6.0  \n",
       "239                         NaN  \n",
       "238                         NaN  \n",
       "237                         9.0  \n",
       "236                        14.0  \n",
       "235                        17.0  \n",
       "234                        25.0  "
      ]
     },
     "execution_count": 6,
     "metadata": {},
     "output_type": "execute_result"
    }
   ],
   "source": [
    "df.head(10)"
   ]
  },
  {
   "cell_type": "code",
   "execution_count": 7,
   "metadata": {},
   "outputs": [
    {
     "name": "stderr",
     "output_type": "stream",
     "text": [
      "C:\\Users\\user\\Anaconda3\\lib\\site-packages\\ipykernel_launcher.py:1: SettingWithCopyWarning: \n",
      "A value is trying to be set on a copy of a slice from a DataFrame.\n",
      "Try using .loc[row_indexer,col_indexer] = value instead\n",
      "\n",
      "See the caveats in the documentation: https://pandas.pydata.org/pandas-docs/stable/user_guide/indexing.html#returning-a-view-versus-a-copy\n",
      "  \"\"\"Entry point for launching an IPython kernel.\n"
     ]
    },
    {
     "data": {
      "image/png": "[encoded data removed]",
      "text/plain": [
       "<Figure size 720x360 with 1 Axes>"
      ]
     },
     "metadata": {
      "needs_background": "light"
     },
     "output_type": "display_data"
    }
   ],
   "source": [
    "df['date'] = pd.to_datetime(df['date'], format='%Y-%m-%d')\n",
    "index_date = df.set_index('date')\n",
    "ts = index_date['newDeaths28DaysByDeathDate']\n",
    "plt.figure(figsize=(10,5))\n",
    "plt.plot(ts)\n",
    "plt.show()"
   ]
  },
  {
   "cell_type": "code",
   "execution_count": 8,
   "metadata": {},
   "outputs": [
    {
     "data": {
      "text/html": [
       "<div>\n",
       "<style scoped>\n",
       "    .dataframe tbody tr th:only-of-type {\n",
       "        vertical-align: middle;\n",
       "    }\n",
       "\n",
       "    .dataframe tbody tr th {\n",
       "        vertical-align: top;\n",
       "    }\n",
       "\n",
       "    .dataframe thead th {\n",
       "        text-align: right;\n",
       "    }\n",
       "</style>\n",
       "<table border=\"1\" class=\"dataframe\">\n",
       "  <thead>\n",
       "    <tr style=\"text-align: right;\">\n",
       "      <th></th>\n",
       "      <th>date</th>\n",
       "      <th>newDeaths28DaysByDeathDate</th>\n",
       "      <th>cumDeaths28DaysByDeathDate</th>\n",
       "    </tr>\n",
       "  </thead>\n",
       "  <tbody>\n",
       "    <tr>\n",
       "      <th>243</th>\n",
       "      <td>2020-03-02</td>\n",
       "      <td>1.0</td>\n",
       "      <td>1.0</td>\n",
       "    </tr>\n",
       "    <tr>\n",
       "      <th>242</th>\n",
       "      <td>2020-03-03</td>\n",
       "      <td>2.0</td>\n",
       "      <td>3.0</td>\n",
       "    </tr>\n",
       "    <tr>\n",
       "      <th>241</th>\n",
       "      <td>2020-03-04</td>\n",
       "      <td>0.0</td>\n",
       "      <td>NaN</td>\n",
       "    </tr>\n",
       "    <tr>\n",
       "      <th>240</th>\n",
       "      <td>2020-03-05</td>\n",
       "      <td>3.0</td>\n",
       "      <td>6.0</td>\n",
       "    </tr>\n",
       "    <tr>\n",
       "      <th>239</th>\n",
       "      <td>2020-03-06</td>\n",
       "      <td>0.0</td>\n",
       "      <td>NaN</td>\n",
       "    </tr>\n",
       "    <tr>\n",
       "      <th>238</th>\n",
       "      <td>2020-03-07</td>\n",
       "      <td>0.0</td>\n",
       "      <td>NaN</td>\n",
       "    </tr>\n",
       "    <tr>\n",
       "      <th>237</th>\n",
       "      <td>2020-03-08</td>\n",
       "      <td>3.0</td>\n",
       "      <td>9.0</td>\n",
       "    </tr>\n",
       "    <tr>\n",
       "      <th>236</th>\n",
       "      <td>2020-03-09</td>\n",
       "      <td>5.0</td>\n",
       "      <td>14.0</td>\n",
       "    </tr>\n",
       "    <tr>\n",
       "      <th>235</th>\n",
       "      <td>2020-03-10</td>\n",
       "      <td>3.0</td>\n",
       "      <td>17.0</td>\n",
       "    </tr>\n",
       "    <tr>\n",
       "      <th>234</th>\n",
       "      <td>2020-03-11</td>\n",
       "      <td>8.0</td>\n",
       "      <td>25.0</td>\n",
       "    </tr>\n",
       "  </tbody>\n",
       "</table>\n",
       "</div>"
      ],
      "text/plain": [
       "          date  newDeaths28DaysByDeathDate  cumDeaths28DaysByDeathDate\n",
       "243 2020-03-02                         1.0                         1.0\n",
       "242 2020-03-03                         2.0                         3.0\n",
       "241 2020-03-04                         0.0                         NaN\n",
       "240 2020-03-05                         3.0                         6.0\n",
       "239 2020-03-06                         0.0                         NaN\n",
       "238 2020-03-07                         0.0                         NaN\n",
       "237 2020-03-08                         3.0                         9.0\n",
       "236 2020-03-09                         5.0                        14.0\n",
       "235 2020-03-10                         3.0                        17.0\n",
       "234 2020-03-11                         8.0                        25.0"
      ]
     },
     "execution_count": 8,
     "metadata": {},
     "output_type": "execute_result"
    }
   ],
   "source": [
    "#Select the relevnt colomns:: date, newCasesBySpecimenDate, cumCasesBySpecimenDate\n",
    "df = df[['date', 'newDeaths28DaysByDeathDate', 'cumDeaths28DaysByDeathDate']]\n",
    "df.head(10)"
   ]
  },
  {
   "cell_type": "code",
   "execution_count": 9,
   "metadata": {},
   "outputs": [
    {
     "data": {
      "text/plain": [
       "array([  0,   1,   2,   3,   4,   5,   6,   7,   8,   9,  10,  11,  12,\n",
       "        13,  14,  15,  16,  17,  18,  19,  20,  21,  22,  23,  24,  25,\n",
       "        26,  27,  28,  29,  30,  31,  32,  33,  34,  35,  36,  37,  38,\n",
       "        39,  40,  41,  42,  43,  44,  45,  46,  47,  48,  49,  50,  51,\n",
       "        52,  53,  54,  55,  56,  57,  58,  59,  60,  61,  62,  63,  64,\n",
       "        65,  66,  67,  68,  69,  70,  71,  72,  73,  74,  75,  76,  77,\n",
       "        78,  79,  80,  81,  82,  83,  84,  85,  86,  87,  88,  89,  90,\n",
       "        91,  92,  93,  94,  95,  96,  97,  98,  99, 100, 101, 102, 103,\n",
       "       104, 105, 106, 107, 108, 109, 110, 111, 112, 113, 114, 115, 116,\n",
       "       117, 118, 119, 120, 121, 122, 123, 124, 125, 126, 127, 128, 129,\n",
       "       130, 131, 132, 133, 134, 135, 136, 137, 138, 139, 140, 141, 142,\n",
       "       143, 144, 145, 146, 147, 148, 149, 150, 151, 152, 153, 154, 155,\n",
       "       156, 157, 158, 159, 160, 161, 162, 163, 164, 165, 166, 167, 168,\n",
       "       169, 170, 171, 172, 173, 174, 175, 176, 177, 178, 179, 180, 181,\n",
       "       182, 183, 184, 185, 186, 187, 188, 189, 190, 191, 192, 193, 194,\n",
       "       195, 196, 197, 198, 199, 200, 201, 202, 203, 204, 205, 206, 207,\n",
       "       208, 209, 210, 211, 212, 213, 214, 215, 216, 217, 218, 219, 220,\n",
       "       221, 222, 223, 224, 225, 226, 227, 228, 229, 230, 231, 232, 233,\n",
       "       234, 235, 236, 237, 238, 239, 240, 241])"
      ]
     },
     "execution_count": 9,
     "metadata": {},
     "output_type": "execute_result"
    }
   ],
   "source": [
    "#present the dates as a range of integers\n",
    "x = df['date'].values\n",
    "x = np.array(range(len(x)))\n",
    "x"
   ]
  },
  {
   "cell_type": "code",
   "execution_count": 10,
   "metadata": {},
   "outputs": [],
   "source": [
    "#Predicting the dynamics of new deaths in England\n",
    "#x - the dates as a range of integers\n",
    "#y1  - new deaths(newDeaths28DaysByDeathDate) \n",
    "#y2 - cumulative number of all deaths(cumDeaths28DaysByDeathDate)"
   ]
  },
  {
   "cell_type": "code",
   "execution_count": 11,
   "metadata": {},
   "outputs": [
    {
     "data": {
      "text/plain": [
       "array([  0,   4,   8,  12,  16,  20,  24,  28,  32,  36,  40,  44,  48,\n",
       "        52,  56,  60,  64,  68,  72,  76,  80,  84,  88,  92,  96, 100,\n",
       "       104, 108, 112, 116, 120, 124, 128, 132, 136, 140, 144, 148, 152,\n",
       "       156, 160, 164, 168, 172, 176, 180, 184, 188, 192, 196, 200, 204,\n",
       "       208, 212, 216, 220, 224, 228, 232, 236, 240])"
      ]
     },
     "execution_count": 11,
     "metadata": {},
     "output_type": "execute_result"
    }
   ],
   "source": [
    "#every 4th value of x place into test data\n",
    "x_test = x[::4]\n",
    "x_test"
   ]
  },
  {
   "cell_type": "code",
   "execution_count": 12,
   "metadata": {},
   "outputs": [
    {
     "data": {
      "text/plain": [
       "array([  1,   2,   3,   5,   6,   7,   9,  10,  11,  13,  14,  15,  17,\n",
       "        18,  19,  21,  22,  23,  25,  26,  27,  29,  30,  31,  33,  34,\n",
       "        35,  37,  38,  39,  41,  42,  43,  45,  46,  47,  49,  50,  51,\n",
       "        53,  54,  55,  57,  58,  59,  61,  62,  63,  65,  66,  67,  69,\n",
       "        70,  71,  73,  74,  75,  77,  78,  79,  81,  82,  83,  85,  86,\n",
       "        87,  89,  90,  91,  93,  94,  95,  97,  98,  99, 101, 102, 103,\n",
       "       105, 106, 107, 109, 110, 111, 113, 114, 115, 117, 118, 119, 121,\n",
       "       122, 123, 125, 126, 127, 129, 130, 131, 133, 134, 135, 137, 138,\n",
       "       139, 141, 142, 143, 145, 146, 147, 149, 150, 151, 153, 154, 155,\n",
       "       157, 158, 159, 161, 162, 163, 165, 166, 167, 169, 170, 171, 173,\n",
       "       174, 175, 177, 178, 179, 181, 182, 183, 185, 186, 187, 189, 190,\n",
       "       191, 193, 194, 195, 197, 198, 199, 201, 202, 203, 205, 206, 207,\n",
       "       209, 210, 211, 213, 214, 215, 217, 218, 219, 221, 222, 223, 225,\n",
       "       226, 227, 229, 230, 231, 233, 234, 235, 237, 238, 239, 241])"
      ]
     },
     "execution_count": 12,
     "metadata": {},
     "output_type": "execute_result"
    }
   ],
   "source": [
    "#create a mask for y1, y2\n",
    "#select 3 out of 4 values for a train dataset\n",
    "mask_x_train = np.array([True]*len(x))\n",
    "mask_x_train[::4] = False\n",
    "x_train = x[mask_x_train]\n",
    "x_train"
   ]
  },
  {
   "cell_type": "code",
   "execution_count": 13,
   "metadata": {},
   "outputs": [],
   "source": [
    "#number of new infections(newDeaths28DaysByDeathDate)\n",
    "y1 = df['newDeaths28DaysByDeathDate'].values"
   ]
  },
  {
   "cell_type": "code",
   "execution_count": 14,
   "metadata": {},
   "outputs": [],
   "source": [
    "#the cumulative number of all infections(cumDeaths28DaysByDeathDate)\n",
    "y2 = df['cumDeaths28DaysByDeathDate'].values"
   ]
  },
  {
   "cell_type": "code",
   "execution_count": 15,
   "metadata": {},
   "outputs": [],
   "source": [
    "#every 4th value of y place into test data\n",
    "y1_test = y1[::4]\n",
    "y2_test = y2[::4]"
   ]
  },
  {
   "cell_type": "code",
   "execution_count": 17,
   "metadata": {},
   "outputs": [
    {
     "name": "stdout",
     "output_type": "stream",
     "text": [
      "y1_train = [  2.   0.   3.   0.   3.   5.   8.  12.  16.  32.  42.  50.  67. 102.\n",
      " 117. 173. 219. 278. 375. 384. 465. 603. 698. 731. 837. 829. 805. 975.\n",
      " 874. 850. 857. 804. 771. 750. 744. 706. 684. 648. 642. 602. 554. 558.\n",
      " 499. 493. 481. 423. 388. 411. 392. 398. 328. 300. 260. 274. 278. 268.\n",
      " 269. 253. 230. 235. 195. 198. 169. 187. 169. 182. 145. 112. 122. 138.\n",
      " 120. 108. 111. 111.  85.  71.  72.  52.  61.  69.  53.  47.  54.  47.\n",
      "  60.  68.  57.  39.  42.  33.  22.  40.  26.  24.  33.  26.  35.  21.\n",
      "  21.  22.  20.  20.  18.  14.  14.  19.  16.  16.  13.  14.  10.   8.\n",
      "   8.  10.   8.  14.  10.   9.   7.  11.  11.  10.   6.   6.  11.   4.\n",
      "   8.   2.   8.   6.  13.   5.  11.   7.   9.   7.   7.   2.   6.   6.\n",
      "  11.  14.   9.   9.  10.  18.  14.  15.  22.  24.  18.  27.  24.  52.\n",
      "  33.  29.  40.  47.  42.  56.  64.  54.  57.  61.  80.  68.  88. 104.\n",
      "  85.  99. 124. 161. 118. 152. 182. 178. 170. 192. 201. 186. 198.]\n",
      "y2_train = [3.0000e+00        nan 6.0000e+00        nan 9.0000e+00 1.4000e+01\n",
      " 2.5000e+01 3.7000e+01 5.3000e+01 1.0500e+02 1.4700e+02 1.9700e+02\n",
      " 3.3100e+02 4.3300e+02 5.5000e+02 8.7700e+02 1.0960e+03 1.3740e+03\n",
      " 2.0840e+03 2.4680e+03 2.9330e+03 4.0740e+03 4.7720e+03 5.5030e+03\n",
      " 7.0830e+03 7.9120e+03 8.7170e+03 1.0602e+04 1.1476e+04 1.2326e+04\n",
      " 1.4044e+04 1.4848e+04 1.5619e+04 1.7152e+04 1.7896e+04 1.8602e+04\n",
      " 1.9968e+04 2.0616e+04 2.1258e+04 2.2452e+04 2.3006e+04 2.3564e+04\n",
      " 2.4569e+04 2.5062e+04 2.5543e+04 2.6444e+04 2.6832e+04 2.7243e+04\n",
      " 2.8025e+04 2.8423e+04 2.8751e+04 2.9381e+04 2.9641e+04 2.9915e+04\n",
      " 3.0447e+04 3.0715e+04 3.0984e+04 3.1459e+04 3.1689e+04 3.1924e+04\n",
      " 3.2320e+04 3.2518e+04 3.2687e+04 3.3050e+04 3.3219e+04 3.3401e+04\n",
      " 3.3709e+04 3.3821e+04 3.3943e+04 3.4237e+04 3.4357e+04 3.4465e+04\n",
      " 3.4674e+04 3.4785e+04 3.4870e+04 3.5038e+04 3.5110e+04 3.5162e+04\n",
      " 3.5299e+04 3.5368e+04 3.5421e+04 3.5525e+04 3.5579e+04 3.5626e+04\n",
      " 3.5744e+04 3.5812e+04 3.5869e+04 3.5946e+04 3.5988e+04 3.6021e+04\n",
      " 3.6086e+04 3.6126e+04 3.6152e+04 3.6207e+04 3.6240e+04 3.6266e+04\n",
      " 3.6324e+04 3.6345e+04 3.6366e+04 3.6400e+04 3.6420e+04 3.6440e+04\n",
      " 3.6470e+04 3.6484e+04 3.6498e+04 3.6529e+04 3.6545e+04 3.6561e+04\n",
      " 3.6580e+04 3.6594e+04 3.6604e+04 3.6622e+04 3.6630e+04 3.6640e+04\n",
      " 3.6657e+04 3.6671e+04 3.6681e+04 3.6693e+04 3.6700e+04 3.6711e+04\n",
      " 3.6730e+04 3.6740e+04 3.6746e+04 3.6759e+04 3.6770e+04 3.6774e+04\n",
      " 3.6794e+04 3.6796e+04 3.6804e+04 3.6817e+04 3.6830e+04 3.6835e+04\n",
      " 3.6857e+04 3.6864e+04 3.6873e+04 3.6884e+04 3.6891e+04 3.6893e+04\n",
      " 3.6907e+04 3.6913e+04 3.6924e+04 3.6946e+04 3.6955e+04 3.6964e+04\n",
      " 3.6986e+04 3.7004e+04 3.7018e+04 3.7050e+04 3.7072e+04 3.7096e+04\n",
      " 3.7135e+04 3.7162e+04 3.7186e+04 3.7271e+04 3.7304e+04 3.7333e+04\n",
      " 3.7409e+04 3.7456e+04 3.7498e+04 3.7602e+04 3.7666e+04 3.7720e+04\n",
      " 3.7831e+04 3.7892e+04 3.7972e+04 3.8116e+04 3.8204e+04 3.8308e+04\n",
      " 3.8489e+04 3.8588e+04 3.8712e+04 3.8996e+04 3.9114e+04 3.9266e+04\n",
      " 3.9615e+04 3.9793e+04 3.9963e+04 4.0313e+04 4.0514e+04 4.0700e+04\n",
      " 4.1085e+04]\n"
     ]
    }
   ],
   "source": [
    "#create a mask for y1, y2\n",
    "#select 3 out of 4 values for a train dataset, \n",
    "mask_y_train = np.array([True]*len(x))\n",
    "mask_y_train[::4] = False\n",
    "y1_train = y1[mask_y_train]\n",
    "print('y1_train =', y1_train)\n",
    "y2_train = y2[mask_y_train]\n",
    "print('y2_train =', y2_train)"
   ]
  },
  {
   "cell_type": "code",
   "execution_count": 18,
   "metadata": {},
   "outputs": [],
   "source": [
    "from sklearn.preprocessing import PolynomialFeatures\n",
    "from sklearn.linear_model import LinearRegression\n",
    "from sklearn.metrics import mean_squared_error"
   ]
  },
  {
   "cell_type": "code",
   "execution_count": 20,
   "metadata": {},
   "outputs": [
    {
     "data": {
      "text/plain": [
       "LinearRegression(copy_X=True, fit_intercept=True, n_jobs=None,\n",
       "         normalize=False)"
      ]
     },
     "execution_count": 20,
     "metadata": {},
     "output_type": "execute_result"
    }
   ],
   "source": [
    "# choose a hyperparameter - a polynomial of the 6th degree\n",
    "poly = PolynomialFeatures(degree = 6)\n",
    "x_poly_train = poly.fit_transform(x_train.reshape((-1, 1)))\n",
    "x_poly_test = poly.transform(x_test.reshape((-1, 1)))\n",
    "\n",
    "# create and train the model\n",
    "model = LinearRegression()\n",
    "model.fit(x_poly_train, y1_train)"
   ]
  },
  {
   "cell_type": "code",
   "execution_count": 21,
   "metadata": {},
   "outputs": [],
   "source": [
    "#prediction\n",
    "y1_pred = model.predict(x_poly_test)"
   ]
  },
  {
   "cell_type": "code",
   "execution_count": 22,
   "metadata": {},
   "outputs": [
    {
     "data": {
      "text/plain": [
       "10359.919244146435"
      ]
     },
     "execution_count": 22,
     "metadata": {},
     "output_type": "execute_result"
    }
   ],
   "source": [
    "mean_squared_error(y1_pred, y1_test)"
   ]
  },
  {
   "cell_type": "code",
   "execution_count": 23,
   "metadata": {},
   "outputs": [
    {
     "data": {
      "image/png": "[encoded data removed]",
      "text/plain": [
       "<Figure size 432x288 with 1 Axes>"
      ]
     },
     "metadata": {
      "needs_background": "light"
     },
     "output_type": "display_data"
    }
   ],
   "source": [
    "# build a graph and see how well we approximated the model\n",
    "plt.plot(x, y1)\n",
    "plt.plot(x_test, y1_pred, c='r')\n",
    "plt.show()"
   ]
  },
  {
   "cell_type": "code",
   "execution_count": 25,
   "metadata": {},
   "outputs": [],
   "source": [
    "# make a forecast\n",
    "x_full_raw = np.array(range(360))\n",
    "x_full = poly.transform(x_full_raw.reshape((-1, 1)))\n",
    "y1_full = model.predict(x_full)"
   ]
  },
  {
   "cell_type": "code",
   "execution_count": 26,
   "metadata": {},
   "outputs": [
    {
     "data": {
      "image/png": "[encoded data removed]",
      "text/plain": [
       "<Figure size 432x288 with 1 Axes>"
      ]
     },
     "metadata": {
      "needs_background": "light"
     },
     "output_type": "display_data"
    }
   ],
   "source": [
    "plt.plot(x, y1)\n",
    "plt.plot(x_full_raw, y1_full, c='r')\n",
    "plt.show()"
   ]
  },
  {
   "cell_type": "code",
   "execution_count": 27,
   "metadata": {},
   "outputs": [
    {
     "data": {
      "text/plain": [
       "array([ 330.17385096,  358.20786939,  388.08526349,  419.88648003,\n",
       "        453.69414064,  489.59307425,  527.67034962,  568.01530814,\n",
       "        610.71959681,  655.87720138,  703.58447975,  753.94019552,\n",
       "        807.04555178,  863.00422506,  921.92239949,  983.90880121,\n",
       "       1049.07473287, 1117.53410845, 1189.4034882 , 1264.8021138 ,\n",
       "       1343.85194371, 1426.67768877, 1513.40684791, 1604.16974417,\n",
       "       1699.09956077, 1798.33237755, 1902.00720748, 2010.26603342,\n",
       "       2123.25384511, 2241.11867624])"
      ]
     },
     "execution_count": 27,
     "metadata": {},
     "output_type": "execute_result"
    }
   ],
   "source": [
    "# 30 days forecast\n",
    "y1_full[x.size:x.size+30]"
   ]
  },
  {
   "cell_type": "code",
   "execution_count": 28,
   "metadata": {},
   "outputs": [
    {
     "data": {
      "text/plain": [
       "array([ 330.17385096,  358.20786939,  388.08526349,  419.88648003,\n",
       "        453.69414064,  489.59307425,  527.67034962,  568.01530814,\n",
       "        610.71959681,  655.87720138,  703.58447975,  753.94019552,\n",
       "        807.04555178,  863.00422506,  921.92239949,  983.90880121,\n",
       "       1049.07473287, 1117.53410845, 1189.4034882 , 1264.8021138 ,\n",
       "       1343.85194371, 1426.67768877, 1513.40684791, 1604.16974417,\n",
       "       1699.09956077, 1798.33237755, 1902.00720748, 2010.26603342,\n",
       "       2123.25384511, 2241.11867624, 2364.01164189, 2492.08697603,\n",
       "       2625.5020693 , 2764.41750691, 2908.99710684, 3059.40795817,\n",
       "       3215.8204596 , 3378.40835823, 3547.34878848, 3722.82231126,\n",
       "       3905.01295327, 4094.10824658, 4290.29926834, 4493.78068075,\n",
       "       4704.75077116, 4923.41149245, 5149.96850351, 5384.63121005,\n",
       "       5627.61280545, 5879.13031197, 6139.40462201, 6408.66053972,\n",
       "       6687.12682264, 6975.03622371, 7272.62553335, 7580.13562181,\n",
       "       7897.81148168, 8225.90227063, 8564.6613543 , 8914.34634949])"
      ]
     },
     "execution_count": 28,
     "metadata": {},
     "output_type": "execute_result"
    }
   ],
   "source": [
    "# 60 days forecast\n",
    "y1_full[x.size:x.size+60]"
   ]
  },
  {
   "cell_type": "code",
   "execution_count": 29,
   "metadata": {},
   "outputs": [
    {
     "data": {
      "text/plain": [
       "array([  330.17385096,   358.20786939,   388.08526349,   419.88648003,\n",
       "         453.69414064,   489.59307425,   527.67034962,   568.01530814,\n",
       "         610.71959681,   655.87720138,   703.58447975,   753.94019552,\n",
       "         807.04555178,   863.00422506,   921.92239949,   983.90880121,\n",
       "        1049.07473287,  1117.53410845,  1189.4034882 ,  1264.8021138 ,\n",
       "        1343.85194371,  1426.67768877,  1513.40684791,  1604.16974417,\n",
       "        1699.09956077,  1798.33237755,  1902.00720748,  2010.26603342,\n",
       "        2123.25384511,  2241.11867624,  2364.01164189,  2492.08697603,\n",
       "        2625.5020693 ,  2764.41750691,  2908.99710684,  3059.40795817,\n",
       "        3215.8204596 ,  3378.40835823,  3547.34878848,  3722.82231126,\n",
       "        3905.01295327,  4094.10824658,  4290.29926834,  4493.78068075,\n",
       "        4704.75077116,  4923.41149245,  5149.96850351,  5384.63121005,\n",
       "        5627.61280545,  5879.13031197,  6139.40462201,  6408.66053972,\n",
       "        6687.12682264,  6975.03622371,  7272.62553335,  7580.13562181,\n",
       "        7897.81148168,  8225.90227063,  8564.6613543 ,  8914.34634949,\n",
       "        9275.21916741,  9647.54605725, 10031.59764988, 10427.64900176,\n",
       "       10835.97963909, 11256.87360208, 11690.61948954, 12137.51050349,\n",
       "       12597.84449419, 13071.92400516, 13560.05631854, 14062.5535006 ,\n",
       "       14579.73244743, 15111.91493086, 15659.42764458, 16222.60225043,\n",
       "       16801.77542491, 17397.28890591, 18009.48953956, 18638.72932738,\n",
       "       19285.3654736 , 19949.76043258, 20632.2819566 , 21333.30314371,\n",
       "       22053.20248583, 22792.36391709, 23551.17686226, 24330.0362855 ,\n",
       "       25129.34273924, 25949.50241324])"
      ]
     },
     "execution_count": 29,
     "metadata": {},
     "output_type": "execute_result"
    }
   ],
   "source": [
    "# 90 days forecast\n",
    "y1_full[x.size:x.size+90]"
   ]
  },
  {
   "cell_type": "markdown",
   "metadata": {},
   "source": [
    "#### Сumulative death forecast"
   ]
  },
  {
   "cell_type": "code",
   "execution_count": 30,
   "metadata": {},
   "outputs": [],
   "source": [
    "from sklearn.preprocessing import PolynomialFeatures\n",
    "from sklearn.linear_model import LinearRegression\n",
    "from sklearn.metrics import mean_squared_error"
   ]
  },
  {
   "cell_type": "code",
   "execution_count": 31,
   "metadata": {},
   "outputs": [
    {
     "data": {
      "text/plain": [
       "array([  1,   2,   3,   5,   6,   7,   9,  10,  11,  13,  14,  15,  17,\n",
       "        18,  19,  21,  22,  23,  25,  26,  27,  29,  30,  31,  33,  34,\n",
       "        35,  37,  38,  39,  41,  42,  43,  45,  46,  47,  49,  50,  51,\n",
       "        53,  54,  55,  57,  58,  59,  61,  62,  63,  65,  66,  67,  69,\n",
       "        70,  71,  73,  74,  75,  77,  78,  79,  81,  82,  83,  85,  86,\n",
       "        87,  89,  90,  91,  93,  94,  95,  97,  98,  99, 101, 102, 103,\n",
       "       105, 106, 107, 109, 110, 111, 113, 114, 115, 117, 118, 119, 121,\n",
       "       122, 123, 125, 126, 127, 129, 130, 131, 133, 134, 135, 137, 138,\n",
       "       139, 141, 142, 143, 145, 146, 147, 149, 150, 151, 153, 154, 155,\n",
       "       157, 158, 159, 161, 162, 163, 165, 166, 167, 169, 170, 171, 173,\n",
       "       174, 175, 177, 178, 179, 181, 182, 183, 185, 186, 187, 189, 190,\n",
       "       191, 193, 194, 195, 197, 198, 199, 201, 202, 203, 205, 206, 207,\n",
       "       209, 210, 211, 213, 214, 215, 217, 218, 219, 221, 222, 223, 225,\n",
       "       226, 227, 229, 230, 231, 233, 234, 235, 237, 238, 239, 241])"
      ]
     },
     "execution_count": 31,
     "metadata": {},
     "output_type": "execute_result"
    }
   ],
   "source": [
    "mask_x_train = np.array([True]*len(x))\n",
    "mask_x_train[::4] = False\n",
    "x_train = x[mask_x_train]\n",
    "x_train"
   ]
  },
  {
   "cell_type": "code",
   "execution_count": 39,
   "metadata": {},
   "outputs": [],
   "source": [
    "y2 = df['cumDeaths28DaysByDeathDate'].fillna(method='backfill').values"
   ]
  },
  {
   "cell_type": "code",
   "execution_count": 40,
   "metadata": {},
   "outputs": [],
   "source": [
    "y2_test = y2[::4]"
   ]
  },
  {
   "cell_type": "code",
   "execution_count": 41,
   "metadata": {},
   "outputs": [],
   "source": [
    "mask_y_train = np.array([True]*len(x))\n",
    "mask_y_train[::4] = False"
   ]
  },
  {
   "cell_type": "code",
   "execution_count": 42,
   "metadata": {},
   "outputs": [
    {
     "name": "stdout",
     "output_type": "stream",
     "text": [
      "y2_train = [3.0000e+00 6.0000e+00 6.0000e+00 9.0000e+00 9.0000e+00 1.4000e+01\n",
      " 2.5000e+01 3.7000e+01 5.3000e+01 1.0500e+02 1.4700e+02 1.9700e+02\n",
      " 3.3100e+02 4.3300e+02 5.5000e+02 8.7700e+02 1.0960e+03 1.3740e+03\n",
      " 2.0840e+03 2.4680e+03 2.9330e+03 4.0740e+03 4.7720e+03 5.5030e+03\n",
      " 7.0830e+03 7.9120e+03 8.7170e+03 1.0602e+04 1.1476e+04 1.2326e+04\n",
      " 1.4044e+04 1.4848e+04 1.5619e+04 1.7152e+04 1.7896e+04 1.8602e+04\n",
      " 1.9968e+04 2.0616e+04 2.1258e+04 2.2452e+04 2.3006e+04 2.3564e+04\n",
      " 2.4569e+04 2.5062e+04 2.5543e+04 2.6444e+04 2.6832e+04 2.7243e+04\n",
      " 2.8025e+04 2.8423e+04 2.8751e+04 2.9381e+04 2.9641e+04 2.9915e+04\n",
      " 3.0447e+04 3.0715e+04 3.0984e+04 3.1459e+04 3.1689e+04 3.1924e+04\n",
      " 3.2320e+04 3.2518e+04 3.2687e+04 3.3050e+04 3.3219e+04 3.3401e+04\n",
      " 3.3709e+04 3.3821e+04 3.3943e+04 3.4237e+04 3.4357e+04 3.4465e+04\n",
      " 3.4674e+04 3.4785e+04 3.4870e+04 3.5038e+04 3.5110e+04 3.5162e+04\n",
      " 3.5299e+04 3.5368e+04 3.5421e+04 3.5525e+04 3.5579e+04 3.5626e+04\n",
      " 3.5744e+04 3.5812e+04 3.5869e+04 3.5946e+04 3.5988e+04 3.6021e+04\n",
      " 3.6086e+04 3.6126e+04 3.6152e+04 3.6207e+04 3.6240e+04 3.6266e+04\n",
      " 3.6324e+04 3.6345e+04 3.6366e+04 3.6400e+04 3.6420e+04 3.6440e+04\n",
      " 3.6470e+04 3.6484e+04 3.6498e+04 3.6529e+04 3.6545e+04 3.6561e+04\n",
      " 3.6580e+04 3.6594e+04 3.6604e+04 3.6622e+04 3.6630e+04 3.6640e+04\n",
      " 3.6657e+04 3.6671e+04 3.6681e+04 3.6693e+04 3.6700e+04 3.6711e+04\n",
      " 3.6730e+04 3.6740e+04 3.6746e+04 3.6759e+04 3.6770e+04 3.6774e+04\n",
      " 3.6794e+04 3.6796e+04 3.6804e+04 3.6817e+04 3.6830e+04 3.6835e+04\n",
      " 3.6857e+04 3.6864e+04 3.6873e+04 3.6884e+04 3.6891e+04 3.6893e+04\n",
      " 3.6907e+04 3.6913e+04 3.6924e+04 3.6946e+04 3.6955e+04 3.6964e+04\n",
      " 3.6986e+04 3.7004e+04 3.7018e+04 3.7050e+04 3.7072e+04 3.7096e+04\n",
      " 3.7135e+04 3.7162e+04 3.7186e+04 3.7271e+04 3.7304e+04 3.7333e+04\n",
      " 3.7409e+04 3.7456e+04 3.7498e+04 3.7602e+04 3.7666e+04 3.7720e+04\n",
      " 3.7831e+04 3.7892e+04 3.7972e+04 3.8116e+04 3.8204e+04 3.8308e+04\n",
      " 3.8489e+04 3.8588e+04 3.8712e+04 3.8996e+04 3.9114e+04 3.9266e+04\n",
      " 3.9615e+04 3.9793e+04 3.9963e+04 4.0313e+04 4.0514e+04 4.0700e+04\n",
      " 4.1085e+04]\n"
     ]
    }
   ],
   "source": [
    "y2_train = y2[mask_y_train]\n",
    "print('y2_train =', y2_train)"
   ]
  },
  {
   "cell_type": "code",
   "execution_count": 43,
   "metadata": {},
   "outputs": [
    {
     "data": {
      "text/plain": [
       "LinearRegression(copy_X=True, fit_intercept=True, n_jobs=None,\n",
       "         normalize=False)"
      ]
     },
     "execution_count": 43,
     "metadata": {},
     "output_type": "execute_result"
    }
   ],
   "source": [
    "# choose a hyperparameter - a polynomial of the 6th degree\n",
    "poly = PolynomialFeatures(degree = 6)\n",
    "x_poly_train = poly.fit_transform(x_train.reshape((-1, 1)))\n",
    "x_poly_test = poly.transform(x_test.reshape((-1, 1)))\n",
    "\n",
    "# create and train the model\n",
    "model = LinearRegression()\n",
    "model.fit(x_poly_train, y2_train)"
   ]
  },
  {
   "cell_type": "code",
   "execution_count": 44,
   "metadata": {},
   "outputs": [],
   "source": [
    "#prediction\n",
    "y2_pred = model.predict(x_poly_test)"
   ]
  },
  {
   "cell_type": "code",
   "execution_count": 46,
   "metadata": {},
   "outputs": [
    {
     "data": {
      "text/plain": [
       "465263.70107112033"
      ]
     },
     "execution_count": 46,
     "metadata": {},
     "output_type": "execute_result"
    }
   ],
   "source": [
    "mean_squared_error(y2_pred, y2_test)"
   ]
  },
  {
   "cell_type": "code",
   "execution_count": 48,
   "metadata": {},
   "outputs": [],
   "source": [
    "# make a forecast\n",
    "x_full_raw = np.array(range(360))\n",
    "x_full = poly.transform(x_full_raw.reshape((-1, 1)))\n",
    "y1_full = model.predict(x_full)"
   ]
  },
  {
   "cell_type": "code",
   "execution_count": 49,
   "metadata": {},
   "outputs": [
    {
     "data": {
      "image/png": "[encoded data removed]",
      "text/plain": [
       "<Figure size 432x288 with 1 Axes>"
      ]
     },
     "metadata": {
      "needs_background": "light"
     },
     "output_type": "display_data"
    }
   ],
   "source": [
    "plt.plot(x, y1)\n",
    "plt.plot(x_full_raw, y1_full, c='r')\n",
    "plt.show()"
   ]
  },
  {
   "cell_type": "code",
   "execution_count": 50,
   "metadata": {},
   "outputs": [
    {
     "data": {
      "text/plain": [
       "array([42757.9094136 , 43305.29812122, 43894.05405328, 44526.36338893,\n",
       "       45204.48756755, 45930.76481546, 46707.61168641, 47537.52461582,\n",
       "       48423.08148879, 49366.94322182, 50371.85535841, 51440.6496783 ,\n",
       "       52576.24582049, 53781.65292012, 55059.97125898, 56414.39392985,\n",
       "       57848.2085146 , 59364.79877602, 60967.64636346, 62660.33253219,\n",
       "       64446.53987649, 66330.05407662, 68314.7656594 , 70404.67177268,\n",
       "       72603.87797346, 74916.60002987, 77347.16573685, 79900.0167456 ,\n",
       "       82579.7104068 , 85390.9216276 ])"
      ]
     },
     "execution_count": 50,
     "metadata": {},
     "output_type": "execute_result"
    }
   ],
   "source": [
    "# 30 days forecast\n",
    "y1_full[x.size:x.size+30]"
   ]
  },
  {
   "cell_type": "markdown",
   "metadata": {},
   "source": [
    "In a month, the number of deaths will double."
   ]
  },
  {
   "cell_type": "code",
   "execution_count": 51,
   "metadata": {},
   "outputs": [
    {
     "data": {
      "text/plain": [
       "array([ 42757.9094136 ,  43305.29812122,  43894.05405328,  44526.36338893,\n",
       "        45204.48756755,  45930.76481546,  46707.61168641,  47537.52461582,\n",
       "        48423.08148879,  49366.94322182,  50371.85535841,  51440.6496783 ,\n",
       "        52576.24582049,  53781.65292012,  55059.97125898,  56414.39392985,\n",
       "        57848.2085146 ,  59364.79877602,  60967.64636346,  62660.33253219,\n",
       "        64446.53987649,  66330.05407662,  68314.7656594 ,  70404.67177268,\n",
       "        72603.87797346,  74916.60002987,  77347.16573685,  79900.0167456 ,\n",
       "        82579.7104068 ,  85390.9216276 ,  88338.44474234,  91427.19539706,\n",
       "        94662.21244775,  98048.65987239, 101591.8286967 , 105297.13893373,\n",
       "       109170.14153708, 113216.52036807, 117442.09417649, 121852.81859519,\n",
       "       126454.78814843, 131254.23827404, 136257.5473592 , 141471.23879011,\n",
       "       146901.9830154 , 152556.59962323, 158442.05943222, 164565.48659614,\n",
       "       170934.16072233, 177555.51900384, 184437.15836548, 191586.83762344,\n",
       "       199012.47965882, 206722.17360485, 214724.17704786, 223026.91824206,\n",
       "       231638.99833805, 240569.19362514, 249826.45778728, 259419.92417296])"
      ]
     },
     "execution_count": 51,
     "metadata": {},
     "output_type": "execute_result"
    }
   ],
   "source": [
    "# 60 days forecast\n",
    "y1_full[x.size:x.size+60]"
   ]
  },
  {
   "cell_type": "code",
   "execution_count": 52,
   "metadata": {},
   "outputs": [
    {
     "data": {
      "text/plain": [
       "array([ 42757.9094136 ,  43305.29812122,  43894.05405328,  44526.36338893,\n",
       "        45204.48756755,  45930.76481546,  46707.61168641,  47537.52461582,\n",
       "        48423.08148879,  49366.94322182,  50371.85535841,  51440.6496783 ,\n",
       "        52576.24582049,  53781.65292012,  55059.97125898,  56414.39392985,\n",
       "        57848.2085146 ,  59364.79877602,  60967.64636346,  62660.33253219,\n",
       "        64446.53987649,  66330.05407662,  68314.7656594 ,  70404.67177268,\n",
       "        72603.87797346,  74916.60002987,  77347.16573685,  79900.0167456 ,\n",
       "        82579.7104068 ,  85390.9216276 ,  88338.44474234,  91427.19539706,\n",
       "        94662.21244775,  98048.65987239, 101591.8286967 , 105297.13893373,\n",
       "       109170.14153708, 113216.52036807, 117442.09417649, 121852.81859519,\n",
       "       126454.78814843, 131254.23827404, 136257.5473592 , 141471.23879011,\n",
       "       146901.9830154 , 152556.59962323, 158442.05943222, 164565.48659614,\n",
       "       170934.16072233, 177555.51900384, 184437.15836548, 191586.83762344,\n",
       "       199012.47965882, 206722.17360485, 214724.17704786, 223026.91824206,\n",
       "       231638.99833805, 240569.19362514, 249826.45778728, 259419.92417296,\n",
       "       269358.90807872, 279652.90904648, 290311.61317464, 301344.89544285,\n",
       "       312762.82205073, 324575.65277012, 336793.84331126, 349428.04770265,\n",
       "       362489.12068471, 375988.1201172 , 389936.30940033, 404345.15990974,\n",
       "       419226.35344516, 434591.78469286, 450453.56370188, 466824.01837396,\n",
       "       483715.6969673 , 501141.37061406, 519114.03585155, 537646.91716729,\n",
       "       556753.46955783, 576447.38110114, 596742.57554308, 617653.21489729,\n",
       "       639193.70205913, 661378.68343318, 684223.0515746 , 707741.94784426,\n",
       "       731950.76507751, 756865.15026691])"
      ]
     },
     "execution_count": 52,
     "metadata": {},
     "output_type": "execute_result"
    }
   ],
   "source": [
    "# 90 days forecast\n",
    "y1_full[x.size:x.size+90]"
   ]
  }
 ],
 "metadata": {
  "kernelspec": {
   "display_name": "Python 3",
   "language": "python",
   "name": "python3"
  },
  "language_info": {
   "codemirror_mode": {
    "name": "ipython",
    "version": 3
   },
   "file_extension": ".py",
   "mimetype": "text/x-python",
   "name": "python",
   "nbconvert_exporter": "python",
   "pygments_lexer": "ipython3",
   "version": "3.7.7"
  }
 },
 "nbformat": 4,
 "nbformat_minor": 4
}
